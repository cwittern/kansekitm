{
 "cells": [
  {
   "cell_type": "markdown",
   "metadata": {},
   "source": [
    "# Comparison of topic models for different tokenization\n",
    "\n",
    "Tokenization is one of the most difficult issues in text analysis of Classicall Chinese.  No ideal solution is found yet.  For this test, three ways of tokenization have been used\n",
    "\n",
    "* document length varies, average is 250 tokens\n",
    "* 80 topics\n",
    "* automatic re-evaluation of alpha and eta values\n",
    "* 2000 iterations with 5 passes over the corpus\n",
    "\n",
    "\n",
    "## The following labels have been used:\n",
    "\n",
    "* \"mmseg\": Tokenization using mmseg with a dictionary of frequently used terms of Classical Chinese (ca 3600 entries of 2 or more characters) and the character frequencies of the Kanseki Repository\n",
    "* \"largedic\": This is also using the mmseg library, but with a very large dictionary of around 600000 words.\n",
    "* \"1gram\": This simply uses every Chinese character as a separate token without any attempt to analyse.\n",
    "\n",
    "\n",
    "## Evaluation points\n",
    "\n",
    "1. Topic term table\n",
    "2. Distribution of alpha values\n",
    "3. Cooccurrence of tokens in the top 20 topic terms\n",
    "4. Topics for term\n",
    "5. Document by similarity\n"
   ]
  },
  {
   "cell_type": "code",
   "execution_count": 1,
   "metadata": {
    "autoscroll": false,
    "ein.tags": "worksheet-0",
    "slideshow": {
     "slide_type": "-"
    }
   },
   "outputs": [
    {
     "data": {
      "text/html": [
       "<h1>1. Topic term table</h1>"
      ],
      "text/plain": [
       "<IPython.core.display.HTML object>"
      ]
     },
     "metadata": {},
     "output_type": "display_data"
    },
    {
     "data": {
      "text/html": [
       "<p>Topic terms of all models, arranged by descending alpha value</p>"
      ],
      "text/plain": [
       "<IPython.core.display.HTML object>"
      ]
     },
     "metadata": {},
     "output_type": "display_data"
    },
    {
     "data": {
      "text/html": [
       "<table><hr><td>#</td><td>alpha</td><td>Topic Terms (1gram)</td><td>#</td><td>alpha</td><td>Topic Terms (largedic)</td><td>#</td><td>alpha</td><td>Topic Terms (mmseg)</td></hr>\n",
       "<tr><td>24</td><td>0.0420</td><td>申 壬 寅 午 丙 戊 辰 庚 甲 夏</td><td>63</td><td>0.0399</td><td>節度使 遣 克用 攻 兵 撃 朱全忠 李克用 軍 加</td><td>12</td><td>0.0301</td><td>刺 仙芝 稹 盧龍 廬州 姪 横海 馬 滉 默啜</td><tr>\n",
       "<tr><td>17</td><td>0.0353</td><td>則 今 此 矣 必 何 若 然 一 如</td><td>8</td><td>0.0346</td><td>兵 賊 千人 衆 城 圍 引兵 攻 數 將兵</td><td>71</td><td>0.0285</td><td>戰 撃 騎 敗 衆 餘 攻 引 破 出</td><tr>\n",
       "<tr><td>65</td><td>0.0332</td><td>巳 卯 丑 癸 丁 辛 朔 乙 己 未</td><td>72</td><td>0.0337</td><td>思明 丙申 希烈 流 邠 殆盡 人 使 滉 死</td><td>15</td><td>0.0268</td><td>侍 郎 部 書 戸 尚 門 同 罷 御</td><tr>\n",
       "<tr><td>18</td><td>0.0326</td><td>賊 戰 攻 衆 出 撃 敗 萬 千 進</td><td>57</td><td>0.0333</td><td>節度使 薨 兼 副 留後 ‧ 同平章事 庚戌 稹 戸部侍郎</td><td>79</td><td>0.0268</td><td>全忠 車 駕 幸 鳳翔 冬 朱全忠 温 鏐 宮</td><tr>\n",
       "<tr><td>75</td><td>0.0301</td><td>河 南 東 淮 鎭 山 北 西 道 江</td><td>15</td><td>0.0324</td><td>節度使 留後 節度 貶 華州 仙芝 盧龍 司戸 昭義 領</td><td>73</td><td>0.0260</td><td>留 薨 後 南詔 丁卯 戊辰 丁巳 庚午 知 丙午</td><tr>\n",
       "<tr><td>6</td><td>0.0258</td><td>平 同 章 侍 郎 加 鐸 門 充 鳳</td><td>48</td><td>0.0307</td><td>冬 幸 東都 春 丁卯 癸卯 乙酉 丙戌 己丑 乙巳</td><td>78</td><td>0.0243</td><td>城 賊 殺 守 攻 衆 士 降 門 出</td><tr>\n",
       "<tr><td>55</td><td>0.0247</td><td>部 郎 侍 司 尚 戸 吏 貶 丞 兼</td><td>39</td><td>0.0305</td><td>兼 節度使 監軍 侍中 中書令 如故 檢校 代 罷 僕射</td><td>36</td><td>0.0229</td><td>今 必 國 能 我 天 彼 欲 汝 功</td><tr>\n",
       "<tr><td>28</td><td>0.0245</td><td>正 春 酉 赦 改 請 和 許 辛 表</td><td>33</td><td>0.0303</td><td>刺史 全忠 表 州 鏐 錢鏐 朱全忠 詔 汴 乙亥</td><td>40</td><td>0.0227</td><td>王 行 官 議 天 令 今 等 用 制</td><tr>\n",
       "<tr><td>62</td><td>0.0239</td><td>皇 后 宗 帝 廟 立 號 武 文 尊</td><td>16</td><td>0.0286</td><td>同平章事 中書侍郎 門下侍郎 翰林學士 兵部侍郎 竝 軍使 壬申 尚書 式</td><td>1</td><td>0.0222</td><td>平 章 同 加 兼 相 閣 支 晏 庚申</td><tr>\n",
       "<tr><td>57</td><td>0.0228</td><td>忠 稹 嶽 梁 牙 夫 張 厚 請 信</td><td>45</td><td>0.0286</td><td>臣 陛下 今 天下 以爲 欲 安 必 言 不可</td><td>42</td><td>0.0218</td><td>攻 河陽 刺 淮西 徐州 守 拔 宣武 魏博 朱全忠</td><tr>\n",
       "<tr><td>2</td><td>0.0220</td><td>卿 朕 陛 對 何 此 法 故 非 古</td><td>10</td><td>0.0279</td><td>駢 節度使 招討使 中尉 將兵 徐州 神策 鳳翔 都將 討</td><td>51</td><td>0.0215</td><td>都 討 副 牙 營 行 招 督 統 護</td><tr>\n",
       "<tr><td>7</td><td>0.0218</td><td>南 川 西 山 蠻 温 東 都 道 還</td><td>26</td><td>0.0247</td><td>副使 諸道 朝廷 作亂 討 殺 濬 使 梓州 張濬</td><td>11</td><td>0.0213</td><td>后 母 死 反 謀 父 殺 罪 召 家</td><tr>\n",
       "<tr><td>21</td><td>0.0217</td><td>陵 刺 興 察 宣 江 浙 湖 押 杭</td><td>27</td><td>0.0242</td><td>蜀 民 汴 人 餘 匹 鄰 十萬 置 減</td><td>39</td><td>0.0213</td><td>正 春 忠武 泚 丙寅 夏 乙酉 甲申 丁酉 越州</td><tr>\n",
       "<tr><td>50</td><td>0.0214</td><td>奏 廷 朝 推 察 議 御 請 誣 是</td><td>74</td><td>0.0237</td><td>今 巣 汝 必 已 我 宰相 使 欲 彼</td><td>68</td><td>0.0212</td><td>書 尚 僕 射 令 兼 部 同 門 加</td><tr>\n",
       "<tr><td>19</td><td>0.0208</td><td>吐 寇 蕃 海 蜀 渾 詔 谷 鎭 青</td><td>35</td><td>0.0234</td><td>衆 我 虜 戰 諸將 引兵 遣 殺 復 攻</td><td>38</td><td>0.0210</td><td>陛下 朕 卿 諫 欲 今 意 忠 知 必</td><tr>\n",
       "<tr><td>45</td><td>0.0206</td><td>都 道 討 管 總 營 武 右 衞 副</td><td>60</td><td>0.0230</td><td>充 忠武 拔 節度使 都 司徒 契丹 元帥 己酉 擒</td><td>58</td><td>0.0205</td><td>祿山 留 宣 思明 甲寅 後 癸卯 守 希烈 安祿山</td><tr>\n",
       "<tr><td>37</td><td>0.0205</td><td>昌 薨 景 荊 元 馬 刺 兼 鄭 叔</td><td>36</td><td>0.0228</td><td>突厥 京兆 沙陀 押牙 尹 安西 寇 都督 入朝 總管</td><td>28</td><td>0.0205</td><td>囘 食 鶻 朔 日 可汗 紇 秋 米 奉天</td><tr>\n",
       "<tr><td>39</td><td>0.0205</td><td>彦 魏 博 陽 河 從 師 徐 鄆 刺</td><td>23</td><td>0.0227</td><td>貶 戊戌 丁亥 丙午 己卯 刺史 奏 辛未 給事中 敕</td><td>77</td><td>0.0198</td><td>宰 相 奏 理 罪 已 僚 權 復 冤</td><tr>\n",
       "<tr><td>4</td><td>0.0203</td><td>雲 幽 泚 名 隸 婢 都 武 徙 沂</td><td>47</td><td>0.0223</td><td>卿 朕 臣 陛下 言 諫 問 再 今 父</td><td>76</td><td>0.0198</td><td>充 州 等 置 兼 行 領 分 詔 道</td><tr>\n",
       "<tr><td>34</td><td>0.0199</td><td>運 鐵 糧 六 團 五 府 給 一 庫</td><td>13</td><td>0.0223</td><td>丁酉 辛丑 是歳 米 同州 葬 捕 揚州 癸未 三年</td><td>20</td><td>0.0194</td><td>請 表 朝 許 廷 詔 求 克用 入 討</td><tr>\n",
       "<tr><td>46</td><td>0.0198</td><td>元 鏐 招 振 裴 降 慰 帥 撫 刺</td><td>44</td><td>0.0222</td><td>立 赦 卒 天下 太原 乙卯 甲寅 甲午 辛巳 弟</td><td>75</td><td>0.0194</td><td>士 僧 練 滔 官 道 判 資 寺 衣</td><tr>\n",
       "<tr><td>63</td><td>0.0198</td><td>全 朱 存 友 繼 知 季 誨 趙 宗</td><td>22</td><td>0.0221</td><td>悦 馬使 必 勢 大將 邢州 諸將 兵 許州 潼關</td><td>53</td><td>0.0191</td><td>皇 號 帝 立 尊 室 位 追 庚辰 諡</td><tr>\n",
       "<tr><td>13</td><td>0.0197</td><td>萬 千 餘 五 百 二 囘 破 斬 高</td><td>75</td><td>0.0221</td><td>畋 太子 叔文 出 瑾 輩 死 白 淮南 令</td><td>70</td><td>0.0189</td><td>天 赦 改 致 仕 甲戌 否 辛卯 官 罷</td><tr>\n",
       "<tr><td>69</td><td>0.0196</td><td>思 仙 祿 邠 山 寺 明 謙 覃 光</td><td>79</td><td>0.0216</td><td>行營 蠻 吐蕃 使 遣 各 鎔 書 請 詣</td><td>60</td><td>0.0188</td><td>宦官 官 時 令 或 省 多 餘 悉 居</td><tr>\n",
       "<tr><td>43</td><td>0.0196</td><td>盧 華 龍 絳 亂 舒 同 致 品 仕</td><td>70</td><td>0.0216</td><td>帥 兵 鄆州 朱玫 衆 玫 等 夏州 辨 遂</td><td>24</td><td>0.0188</td><td>鹽 賦 淮 支 江 税 用 民 水 多</td><tr>\n",
       "<tr><td>26</td><td>0.0194</td><td>左 右 監 甫 衞 客 載 僕 射 林</td><td>56</td><td>0.0214</td><td>罷 蔡 請 辛卯 從之 奏 貶 贄 尉 中外</td><td>7</td><td>0.0187</td><td>賜 錢 金 數 緡 財 帛 庫 賞 府</td><tr>\n",
       "<tr><td>71</td><td>0.0190</td><td>師 京 車 駕 晟 翰 學 林 還 延</td><td>73</td><td>0.0213</td><td>范陽 壬戌 甲子 壽州 河北 族 河朔 丙寅 賂 禁</td><td>64</td><td>0.0187</td><td>河東 乙卯 己巳 壬午 魏博 鎭海 壬申 同州 留 後</td><tr>\n",
       "<tr><td>60</td><td>0.0189</td><td>孜 令 田 罕 悦 燧 戍 補 諸 是</td><td>59</td><td>0.0212</td><td>宦官 使 令 敕使 定 承宗 悉 幽 京畿 燕</td><td>17</td><td>0.0185</td><td>鎭 戍 行 募 邊 赴 州 道 糧 禦</td><tr>\n",
       "<tr><td>53</td><td>0.0189</td><td>密 巣 俊 楊 殺 讓 告 謀 黄 頵</td><td>20</td><td>0.0212</td><td>緡 錢 人 朕 財 用 造 未嘗 惡 多</td><td>69</td><td>0.0182</td><td>行密 楊行密 刺 錢鏐 防 丙申 頵 乙未 孫儒 蘇州</td><tr>\n",
       "<tr><td>29</td><td>0.0188</td><td>用 重 範 儒 克 鐸 廷 權 專 進</td><td>51</td><td>0.0211</td><td>晟 表 言 請 藩鎭 累 屡 李晟 不許 求</td><td>67</td><td>0.0181</td><td>蜀 輸 廣陵 壬寅 江 船 江西 賣 錢 庚寅</td><tr>\n",
       "<tr><td>30</td><td>0.0188</td><td>判 校 罷 侍 徽 門 貞 檢 亥 黄</td><td>68</td><td>0.0210</td><td>判 宰相 注 或 官爵 士 文 珍 以下 涯</td><td>45</td><td>0.0181</td><td>知 已 相 復 欲 難 師道 歸 必 心</td><tr>\n",
       "<tr><td>77</td><td>0.0187</td><td>鹽 僧 尹 靈 武 湊 代 盈 原 佛</td><td>12</td><td>0.0210</td><td>河東 天子 疾 鎭 忠義 表 師古 入朝 俟 岐</td><td>3</td><td>0.0179</td><td>尹 潞州 制 注 訓 光 祿 鄭注 出 壽</td><tr>\n",
       "<tr><td>8</td><td>0.0186</td><td>守 留 瑄 仲 張 武 洪 楊 眞 亮</td><td>30</td><td>0.0209</td><td>徐 求 惟 欲 汝曹 軍中 恐 與之 使 僅</td><td>66</td><td>0.0178</td><td>客 監 策 少 神 司 遷 賓 卿 馬</td><tr>\n",
       "<tr><td>11</td><td>0.0186</td><td>百 年 民 餘 歳 食 一 戸 二 數</td><td>77</td><td>0.0208</td><td>囘 紇 可汗 遣 殺 使 子儀 興 虞候 諭</td><td>50</td><td>0.0177</td><td>城 日 樂 樓 宣州 食 死 登 呼 明</td><tr>\n",
       "<tr><td>70</td><td>0.0186</td><td>京 賦 税 兆 財 又 兩 諸 務 外</td><td>69</td><td>0.0206</td><td>晉陽 林甫 詣 中書 大臣 言 行在 二人 赴 急於</td><td>6</td><td>0.0177</td><td>公 主 薦 禮 妻 代 拜 累 祀 丘</td><tr>\n",
       "<tr><td>35</td><td>0.0185</td><td>汗 囘 羅 國 沙 陀 西 阿 部 立</td><td>58</td><td>0.0205</td><td>建 王建 茂貞 温 韓建 鳳翔 敬瑄 使 田令孜 上皇</td><td>9</td><td>0.0177</td><td>士 學 翰林 儒 監 國 官 丁丑 徽 文</td><tr>\n",
       "<tr><td>66</td><td>0.0185</td><td>公 主 女 禮 聽 禁 家 社 尚 稷</td><td>49</td><td>0.0204</td><td>斬 軍士 出 姓名 人 竟 殺 潛 不行 欲</td><td>16</td><td>0.0175</td><td>悟 富 業 農 扈 年 貴 時 崇 養</td><tr>\n",
       "<tr><td>1</td><td>0.0185</td><td>仁 懷 弼 義 恩 明 厚 衆 殺 降</td><td>9</td><td>0.0203</td><td>朔 日 奏 秋 有食 潮 威 損 深州 汝州</td><td>34</td><td>0.0175</td><td>迎 判 指 揮 印 出 澤州 師範 謁 内</td><tr>\n",
       "<tr><td>10</td><td>0.0185</td><td>義 朝 宦 國 詔 横 制 疾 宮 監</td><td>53</td><td>0.0203</td><td>公 人也 圖 朝廷 使 鎭 洛陽 授之 脩 請</td><td>27</td><td>0.0172</td><td>蠻 衆 陷 寇 南 餘 西川 破 攻 州</td><tr>\n",
       "<tr><td>76</td><td>0.0184</td><td>百 或 數 是 一 盜 日 餘 令 聚</td><td>29</td><td>0.0203</td><td>壬寅 宰 復恭 僕 羣 執政 襄州 軍府 求救 之子</td><td>46</td><td>0.0171</td><td>觀 察 湖南 己亥 道 浙東 刺 弘 宣歙 福建</td><tr>\n",
       "<tr><td>52</td><td>0.0183</td><td>從 諫 求 讜 羣 容 薦 賂 敢 幸</td><td>4</td><td>0.0202</td><td>吐蕃 杖殺 四鎭 制置 奉表 遣 請上 略 奏 旱</td><td>56</td><td>0.0170</td><td>脩 心 安 慮 小 廷 道 猶 福 天</td><tr>\n",
       "<tr><td>68</td><td>0.0179</td><td>汝 吾 我 衆 曹 殺 傳 能 謂 歸</td><td>41</td><td>0.0202</td><td>南詔 隸 東川 遣 西川 發兵 詔 都 等 使</td><td>32</td><td>0.0170</td><td>爵 壬戌 贈 魏州 官 賜 麻 錡 斂 丁亥</td><tr>\n",
       "<tr><td>12</td><td>0.0178</td><td>戌 榮 刺 丙 甲 戊 庚 建 韓 簡</td><td>67</td><td>0.0202</td><td>太子 皇后 后 越州 令 學士 置 寺 怒 樓</td><td>61</td><td>0.0170</td><td>淮南 勛 尸 山南東道 山南西道 死 懷恩 聞 匿 士</td><tr>\n",
       "<tr><td>22</td><td>0.0176</td><td>宰 左 何 良 請 日 召 輔 悟 是</td><td>66</td><td>0.0202</td><td>將士 廣陵 懷光 知 推 軍 困 關 抵 入</td><td>52</td><td>0.0169</td><td>克用 總 幽州 管 李克用 仁恭 甲午 撃 攻 破</td><tr>\n",
       "<tr><td>20</td><td>0.0174</td><td>茂 弘 克 暉 本 憲 邕 融 張 弟</td><td>46</td><td>0.0200</td><td>司馬 己亥 安南 以爲 上言 奏 洪州 愈 宜 光州</td><td>19</td><td>0.0169</td><td>巡 辭 院 杭州 優 龍 劍南 旬日 固 恭</td><tr>\n",
       "<tr><td>23</td><td>0.0174</td><td>恭 孝 勛 潞 庭 瑊 曾 遏 郭 震</td><td>76</td><td>0.0200</td><td>同 滔 泚 三品 中書門下 諫議大夫 分司 之子 崇 揆</td><td>35</td><td>0.0168</td><td>建 運 王建 陳敬瑄 敬瑄 成都 田令孜 陝 西川 刺</td><tr>\n",
       "<tr><td>44</td><td>0.0173</td><td>玄 緯 齡 入 愼 疾 居 奏 紳 復</td><td>21</td><td>0.0199</td><td>己未 逐 都 亂 遣 二州 觀察使 璘 攝 殺</td><td>48</td><td>0.0168</td><td>貶 賂 官 賀 相 受 奏 朝 刺 怒</td><tr>\n",
       "<tr><td>32</td><td>0.0172</td><td>慶 楊 烈 金 爵 復 洛 姓 賜 𣏌</td><td>1</td><td>0.0198</td><td>祿山 奉天 戊申 廬州 承嗣 侍郎 解 漢 餘人 洪</td><td>72</td><td>0.0167</td><td>疾 相 失 出 見 問 隱 語 視 日</td><tr>\n",
       "<tr><td>0</td><td>0.0171</td><td>昭 崇 韋 紹 寶 林 姚 莊 義 志</td><td>17</td><td>0.0198</td><td>魏 乙未 趙 河 武俊 營 皇子 五州 誘 歸</td><td>21</td><td>0.0167</td><td>亂 作 治 載 誅 叔文 務 主 議 詩</td><tr>\n",
       "<tr><td>56</td><td>0.0171</td><td>鳳 匡 殷 秀 服 樂 宴 田 闢 微</td><td>38</td><td>0.0196</td><td>行密 用之 陷 師鐸 楊行密 頵 淮南 攻 田頵 潤州</td><td>31</td><td>0.0166</td><td>突 厥 胤 陀 部 沙 寇 落 入 振武</td><tr>\n",
       "<tr><td>5</td><td>0.0171</td><td>嗣 承 訓 嘉 宗 弟 瓊 親 畫 釗</td><td>24</td><td>0.0195</td><td>嶺南 江西 帝 婺州 等 奏 軍司馬 睦州 朝士 甲</td><td>5</td><td>0.0165</td><td>朔方 懷光 勢 賊 據 策 潼關 倚 鋒 守</td><tr>\n",
       "<tr><td>27</td><td>0.0171</td><td>雄 滔 約 威 公 畋 出 從 涯 扈</td><td>78</td><td>0.0195</td><td>朔方 昌 河東 潞州 絳 不宜 鎭 言 晉 崇文</td><td>10</td><td>0.0164</td><td>吐 蕃 寇 丹 渾 契 谷 撃 奏 破</td><tr>\n",
       "<tr><td>73</td><td>0.0170</td><td>敬 建 秦 世 民 智 潮 馬 徳 宗</td><td>31</td><td>0.0194</td><td>光弼 癸亥 己巳 甫 賜 武 李光弼 鄧 曾孫 卿等</td><td>54</td><td>0.0164</td><td>黨 逐 安南 略 項 經 庚子 邠寧 戊午 奏</td><tr>\n",
       "<tr><td>31</td><td>0.0170</td><td>光 樓 溥 緒 璋 門 化 欽 福 百</td><td>3</td><td>0.0194</td><td>巡 宣州 殷 大夫 諫官 經略 遷 本道 薦 大使</td><td>25</td><td>0.0164</td><td>京城 剽 欲 用 必 贓 司 仗 恐 援</td><tr>\n",
       "<tr><td>59</td><td>0.0169</td><td>師 建 順 請 成 辭 復 平 寛 乃</td><td>65</td><td>0.0194</td><td>申 剽掠 劍南 太廟 易之 税 職 刑部尚書 増 請</td><td>41</td><td>0.0163</td><td>宣慰 弟 辛未 攝 從 詣 逃 孫 政 河北</td><tr>\n",
       "<tr><td>49</td><td>0.0169</td><td>秋 七 周 丹 撃 契 破 奚 關 別</td><td>50</td><td>0.0193</td><td>徳裕 宰相 由是 權 惡 知 政事 李徳裕 奏事 宗閔</td><td>33</td><td>0.0162</td><td>選 官 大梁 吏 林甫 敕 奏 多 用 風</td><tr>\n",
       "<tr><td>79</td><td>0.0168</td><td>駢 亥 坊 丁 錡 垍 奏 升 維 發</td><td>71</td><td>0.0193</td><td>愬 戊子 等 軍府 祐 鹽州 官軍 内侍 軍將 信</td><td>74</td><td>0.0161</td><td>汴 等 鄆 謀 殺 告 夜 誅 祐 全忠</td><tr>\n",
       "<tr><td>74</td><td>0.0167</td><td>裕 徳 注 祐 杖 敏 殺 等 敕 怒</td><td>0</td><td>0.0192</td><td>歩騎 求救 常州 北庭 入城 五百 立功 五千 世民 撃</td><td>29</td><td>0.0160</td><td>殺 死 杖 法 怒 罪 吏 獄 犯 命</td><tr>\n",
       "<tr><td>36</td><td>0.0166</td><td>翔 貞 神 鎭 策 藩 惟 建 播 邠</td><td>62</td><td>0.0191</td><td>度支 改元 車駕 天下 赦 鹽鐵 寶 晏 發 湖南</td><td>44</td><td>0.0160</td><td>乙亥 散 員外 常侍 校 檢 騎 瑾 名 脅</td><tr>\n",
       "<tr><td>25</td><td>0.0165</td><td>錢 休 緡 米 直 病 辨 斗 參 假</td><td>34</td><td>0.0191</td><td>公主 師道 送 妻 囚 孫 立 削 詔 元濟</td><td>26</td><td>0.0160</td><td>東都 刺 貶 司 徳裕 李徳裕 興元 宗閔 令 尉</td><tr>\n",
       "<tr><td>38</td><td>0.0164</td><td>希 蔡 韓 瓌 濟 質 遊 呉 愬 少</td><td>19</td><td>0.0190</td><td>使 大王 今 節 歸 彼 捨 幕僚 道 不得</td><td>14</td><td>0.0157</td><td>長安 假 神 藥 氣 率 輒 給 蓄 館</td><tr>\n",
       "<tr><td>78</td><td>0.0161</td><td>楚 見 貴 問 拜 佐 謝 勉 疾 如</td><td>25</td><td>0.0190</td><td>胤 鄆 等 汴 福建 總 崔胤 兄弟 十人 之子</td><td>0</td><td>0.0157</td><td>巣 入 境 密 柵 唐 屯 且 黄巣 數</td><tr>\n",
       "<tr><td>64</td><td>0.0160</td><td>賓 邢 珍 源 豐 脩 閣 臺 遜 軌</td><td>37</td><td>0.0190</td><td>中外 弘 言 皇帝 以爲 爲人 掌 欲 休 左右</td><td>57</td><td>0.0157</td><td>弟 兄 卒 立 殺 父 戊子 國 旌節 王</td><tr>\n",
       "<tr><td>58</td><td>0.0157</td><td>胤 崔 濬 樞 等 靜 閔 顏 宗 祚</td><td>55</td><td>0.0187</td><td>淮南 淮 江 宣慰 更名 遣使 詔書 遣 展 匡國</td><td>4</td><td>0.0156</td><td>減 商 租 戸 役 什 田 丁 均 増</td><tr>\n",
       "<tr><td>9</td><td>0.0156</td><td>蕃 吐 寧 贊 唐 虔 信 審 普 勗</td><td>61</td><td>0.0186</td><td>仁厚 甲辰 丁丑 尊號 陝 阡能 羣臣 察 兩軍 貢獻</td><td>8</td><td>0.0154</td><td>范陽 婚 贊 朝 結 命 普 廷 先 請</td><tr>\n",
       "<tr><td>47</td><td>0.0155</td><td>承 賀 泰 乾 牒 干 魯 璀 邵 立</td><td>52</td><td>0.0184</td><td>僧 江 使 時 往來 攻城 集 遣 進退 署</td><td>65</td><td>0.0152</td><td>昌 汝曹 邢州 牧 畜 貪 場 滿 抵 返</td><tr>\n",
       "<tr><td>42</td><td>0.0155</td><td>芝 晏 哭 承 攜 草 云 完 岌 復</td><td>11</td><td>0.0183</td><td>壬午 兵馬 員外郎 判官 兵屯 宦者 咸陽 四面 濮州 出迎</td><td>43</td><td>0.0149</td><td>光弼 蔡 寨 斷 河 愬 賊 路 夾 歸</td><tr>\n",
       "<tr><td>3</td><td>0.0155</td><td>汴 揮 指 宋 練 刺 朗 劉 徐 滑</td><td>42</td><td>0.0182</td><td>中使 執 從史 貯 諸王 相繼 朝廷 如是 抑 承璀</td><td>62</td><td>0.0148</td><td>涕 癸亥 流 他日 雪 庭 泣 輿 贖 宮</td><tr>\n",
       "<tr><td>61</td><td>0.0154</td><td>防 禦 瑾 陝 龐 玫 涇 鄴 原 令</td><td>14</td><td>0.0182</td><td>克用 黨項 存孝 鎭 屯 和解 李克用 邢 巖 掠</td><td>18</td><td>0.0148</td><td>絳 朝 達 欲 公 復 厚 承璀 紳 思</td><tr>\n",
       "<tr><td>67</td><td>0.0151</td><td>漢 母 宏 死 流 溪 狐 父 今 宥</td><td>2</td><td>0.0181</td><td>官軍 等 賊 軍 乘勝 南 拔 渡 朝義 攻</td><td>59</td><td>0.0147</td><td>晟 入 世民 溥 行 鄆州 等 拜 朝 衆</td><tr>\n",
       "<tr><td>48</td><td>0.0148</td><td>權 宗 説 渭 知 集 長 靖 君 玫</td><td>6</td><td>0.0178</td><td>鶻 勛 鹽 渭 世孫 濛 太守 環 震 官吏</td><td>63</td><td>0.0145</td><td>濟 趙 京畿 燕 鎭 俸 壇 炎 河 雲州</td><tr>\n",
       "<tr><td>33</td><td>0.0146</td><td>商 英 文 巨 誼 印 賢 象 揆 綽</td><td>5</td><td>0.0178</td><td>號 虞候 暮 借 璟 出入 立 賢 旦 戰艦</td><td>2</td><td>0.0144</td><td>衞 辛亥 林 辛丑 宿 武 入 桂州 延壽 討</td><tr>\n",
       "<tr><td>16</td><td>0.0145</td><td>壽 皋 院 延 臨 堅 郡 鼓 守 饗</td><td>40</td><td>0.0177</td><td>太后 訓 誅 等 禁中 欲 令 命 使人 何不</td><td>30</td><td>0.0143</td><td>魏 昭義 州 式 河朔 弟 奉 鎭 兄 洺</td><tr>\n",
       "<tr><td>72</td><td>0.0145</td><td>突 鶻 厥 利 降 來 頡 帳 寇 騎</td><td>28</td><td>0.0175</td><td>全忠 大梁 京城 杭州 朱全忠 重榮 至是 時人 醉 涇州</td><td>47</td><td>0.0142</td><td>樞 濬 鐵 殺 質 鎔 密 張濬 常州 嶺南</td><tr>\n",
       "<tr><td>51</td><td>0.0145</td><td>市 尋 築 陸 馬 遺 異 饋 往 伊</td><td>7</td><td>0.0171</td><td>河陽 悟 罕之 杖 承旨 下 使 死 鄂州 汝</td><td>49</td><td>0.0142</td><td>河南 葬 晉陽 幼 説 豪 傑 興平 伍 協</td><tr>\n",
       "<tr><td>40</td><td>0.0145</td><td>滿 傑 繋 政 收 囚 雪 獄 苑 馬</td><td>54</td><td>0.0169</td><td>指 施 左軍 延壽 宣 毬 進士 撃 軍容 飮酒</td><td>37</td><td>0.0140</td><td>雄 癸未 武俊 歸 鹽州 惟嶽 刺 殺 悦 間道</td><tr>\n",
       "<tr><td>14</td><td>0.0142</td><td>儀 封 逸 惠 盟 壇 祭 赤 坦 郊</td><td>18</td><td>0.0169</td><td>好 奴 幾 福 人情 驚 笑 病 除 莊</td><td>55</td><td>0.0139</td><td>盜 習 貢 併 鄰 蜀 挾 入 詬 討</td><tr>\n",
       "<tr><td>54</td><td>0.0140</td><td>優 助 詔 穀 教 賜 建 圖 利 武</td><td>64</td><td>0.0168</td><td>度 裴度 用兵 少卿 脩好 朝恩 濠州 滿 子弟 使</td><td>13</td><td>0.0139</td><td>頭 令孜 朱玫 玫 震 環 王重榮 掠 羊 重榮</td><tr>\n",
       "<tr><td>41</td><td>0.0139</td><td>巡 略 經 澄 聖 福 神 睦 容 守</td><td>32</td><td>0.0166</td><td>懷恩 師範 兗州 𣏌 入 裴 南面 壯士 食 使</td><td>22</td><td>0.0137</td><td>駢 用之 師鐸 高駢 捕 黨 家 承宗 告 謀</td><tr>\n",
       "<tr><td>15</td><td>0.0133</td><td>方 定 逢 歙 鴻 卿 處 弩 郵 摶</td><td>43</td><td>0.0162</td><td>諡 天子 何以 逆 敢言 責 力 海陵 未平 臣下</td><td>23</td><td>0.0134</td><td>全忠 等 朱全忠 秦宗權 宗權 斬 復恭 朱温 敗 施</td><tr>\n",
       "</table>"
      ],
      "text/plain": [
       "<IPython.core.display.HTML object>"
      ]
     },
     "metadata": {},
     "output_type": "display_data"
    }
   ],
   "source": [
    "from IPython.core.display import display, HTML\n",
    "import ktm_analysis as ktm\n",
    "import numpy as np\n",
    "import matplotlib.pyplot as plt\n",
    "target=\"tokenization\"\n",
    "models = ktm.prepan(target)\n",
    "display(HTML(\"<h1>1. Topic term table</h1>\"))\n",
    "display(HTML(\"<p>Topic terms of all models, arranged by descending alpha value</p>\"))\n",
    "display(HTML(ktm.topic_terms_table(models, html=True)))"
   ]
  },
  {
   "cell_type": "code",
   "execution_count": 2,
   "metadata": {},
   "outputs": [
    {
     "data": {
      "text/html": [
       "<h1>2. Distribution of alpha values</h1>"
      ],
      "text/plain": [
       "<IPython.core.display.HTML object>"
      ]
     },
     "metadata": {},
     "output_type": "display_data"
    },
    {
     "data": {
      "image/png": "[encoded data removed]",
      "text/plain": [
       "<matplotlib.figure.Figure at 0x7fd0402161d0>"
      ]
     },
     "metadata": {},
     "output_type": "display_data"
    }
   ],
   "source": [
    "display(HTML(\"<h1>2. Distribution of alpha values</h1>\"))\n",
    "for m in models:\n",
    "    lda=m[0]\n",
    "    alpha=np.sort(lda.alpha)\n",
    "    plt.plot(alpha)\n",
    "plt.ylabel('alpha values')\n",
    "plt.xlabel('Topics')\n",
    "plt.legend([m[5] for m in models], loc='upper left')\n",
    "plt.show()"
   ]
  },
  {
   "cell_type": "code",
   "execution_count": 3,
   "metadata": {},
   "outputs": [
    {
     "data": {
      "text/html": [
       "<h1>3. Cooccurrence of tokens in the top 20 topic terms</h1>"
      ],
      "text/plain": [
       "<IPython.core.display.HTML object>"
      ]
     },
     "metadata": {},
     "output_type": "display_data"
    },
    {
     "data": {
      "image/png": "[encoded data removed]",
      "text/plain": [
       "<matplotlib.figure.Figure at 0x7fd040216450>"
      ]
     },
     "metadata": {},
     "output_type": "display_data"
    }
   ],
   "source": [
    "num_words = 20\n",
    "display(HTML(\"<h1>3. Cooccurrence of tokens in the top %d topic terms</h1>\" % (num_words)))\n",
    "co=ktm.tab_co_list(ktm.get_tt_co(models, num_words=num_words))\n",
    "plt.plot(co[1], co[0], 'ro')\n",
    "plt.ylabel('Number of model/topic term pairs')\n",
    "plt.xlabel('Number of Instances')\n",
    "plt.show()"
   ]
  },
  {
   "cell_type": "code",
   "execution_count": 4,
   "metadata": {},
   "outputs": [
    {
     "data": {
      "text/html": [
       "<h1>4. Topics for term 平</h1>"
      ],
      "text/plain": [
       "<IPython.core.display.HTML object>"
      ]
     },
     "metadata": {},
     "output_type": "display_data"
    },
    {
     "data": {
      "text/plain": [
       "[('1gram',\n",
       "  [(6, 0.16455735482333456),\n",
       "   (43, 0.015127746674523148),\n",
       "   (59, 0.010110216035504138),\n",
       "   (75, 0.011557421460138878)]),\n",
       " ('largedic', []),\n",
       " ('mmseg', [(1, 0.19439728152373406)])]"
      ]
     },
     "execution_count": 4,
     "metadata": {},
     "output_type": "execute_result"
    }
   ],
   "source": [
    "term= u\"平\"\n",
    "display(HTML(\"<h1>4. Topics for term %s</h1>\" % (term)))\n",
    "ktm.topics_for_term(models, term)"
   ]
  },
  {
   "cell_type": "code",
   "execution_count": 5,
   "metadata": {},
   "outputs": [
    {
     "data": {
      "text/html": [
       "<h1>5. Document by similarity</h1>"
      ],
      "text/plain": [
       "<IPython.core.display.HTML object>"
      ]
     },
     "metadata": {},
     "output_type": "display_data"
    },
    {
     "data": {
      "text/html": [
       "<p>1gram: Query Document:\n",
       "王 世 充 既 得 東 都 兵 進 撃 李 密 於 洛 北 敗 之 遂 屯 鞏 北 辛 酉 世 充 命 諸 軍 各 造 浮 橋 渡 洛 撃 密 橋 先 成 者 先 進 前 後 不 一 虎 賁 郎 將 王 辯 破 密 外 柵 密 營 中 驚 擾 將 潰 世 充 不 知 鳴 角 收 衆 密 因 帥 敢 死 士 乘 之 世 充 大 敗 爭 橋 溺 死 者 萬 餘 人 王 辯 死 世 充 僅 自 免 洛 北 諸 軍 皆 潰 世 充 不 敢 入 東 都 北 趣 河 陽 是 夜 疾 風 寒 雨 軍 士 渉 水 沾 濕 道 路 凍 死 者 又 以 萬 數 世 充 獨 與 數 千 人 至 河 陽 自 繋 獄 請 罪 越 王 侗 遣 使 赦 之 召 還 東 都 賜 金 帛 美 女 以 安 其 意 世 充 收 合 亡 散 得 萬 餘 人 屯 含 嘉 城 不 敢 復 出<p>\n",
       "Response<p>\n",
       "703 0.3601 吐 谷 渾 及 羌 人 寇 疊 州 陷 合 川<p>\n",
       "1652 0.3514 戊 寅 特 浪 羌 酋 董 悉 奉 求 辟 惠 羌 酋 卜 檐 莫 各 帥 種 落 萬 餘 戸 詣 茂 州 内 附<p>\n",
       "5787 0.3209 春 正 月 劍 南 西 山 羌 蠻 二 萬 餘 戸 來 降 詔 加 韋 皋 押 近 界 羌 蠻 及 西 山 八 國 使<p>\n",
       "1941 0.3002 生 羌 十 二 州 爲 吐 蕃 所 破 三 月 戊 寅 悉 罷 之<p>\n",
       "642 0.2862 丙 申 以 白 狗 等 羌 地 置 維 恭 二 州<p>\n",
       "largedic: Query Document:\n",
       "王世充 既 得 東都 兵 進撃 李密 洛 敗 遂 屯 鞏 辛酉 世充 命 諸軍 各 造 浮 橋渡 洛 撃 密 橋 先 成 先進 前後 不一 虎賁 郎將 王辯 破 密 柵 密 營中 驚擾 潰 世充 不知 鳴角 收 衆 密 因 帥 敢死士 乘 世充 大敗 爭 橋 溺死 餘人 王辯 死 世充 僅 自免 洛 諸軍 潰 世充 不敢 入 東都 趣 河陽 夜 疾風 寒雨 軍士 渉水 沾濕 道路 凍死 萬數 世充 獨 數 千人 河陽 繋獄 請罪 越王侗 遣使 赦 召還 東都 賜 金帛 美女 以安 其意 世充 收合 亡散 得 餘人 屯 含嘉城 不敢 復出<p>\n",
       "Response<p>\n",
       "6947 0.3406 蠻 留 成都 西郭 十日 始 慰撫 蜀 人 市肆 安堵 將行 大掠 子女 百工 數 萬人 珍貨 蜀 人 恐懼 往往 赴 江 流 尸 塞 江 而下 嵯顛 自爲 軍 殿 大度水 嵯顛 蜀 人 南 境 聽 汝 哭別 郷國 衆 慟哭 赴水 死者 千計 自是 南詔 工巧 埒 蜀 中<p>\n",
       "8134 0.3383 安潛 蜀 兵 怯弱 奏 遣 大將 齎 牒 詣 陳 許 募 壯士 蜀 人 相雜 訓練 用之 得 千人 分爲 三軍 戴 黄 帽 號 黄頭 軍 奏 乞 洪州 弩手 教 蜀 人 用 弩 走丸 射 選 得 千人 號 神 機弩 營 蜀 兵 由是 浸 強<p>\n",
       "4364 0.3254 冬 丁未 談庭瑤 蜀 談 啖<p>\n",
       "6965 0.3184 上命 徳裕 脩 塞 清溪關 斷 南詔 入寇 路 或 土 石 壘 徳裕 上言 蠻 細路 至多 不可 塞 惟 重兵 鎭守 保 無虞 但 黎 雅 來得 萬人 成都 得二 萬人 精 加 訓練 蠻 不敢 動 邊兵 不宜 多 須 力 臨制 崔旰 殺 郭英乂 張朏 逐 張延賞 鎭兵 時 兵 歸 本道 惟 河中 陳許 千人 成都 詔 來年三月 歸 蜀 人 忷懼 徳裕 奏 乞 鄭滑 百人 陳許 千人 鎭 蜀 且 言 蜀 兵 脆弱 新 爲 蠻寇 困 破膽 不堪 征戍 兵 歸 杜元穎 時 無異 蜀 不可 保 恐 議 云 蜀 經 蠻寇 以來 已 増兵 曏者 蠻寇 已 逼 元穎 始 募 市 人爲 兵 得 三千 餘人 數 實 可用 郭釗 募 兵 僅 得 餘人 臣 復 召募 得 二百 餘人 此外 元穎 舊 兵 恐 議 聞 一夫當關 説 以爲 清溪 塞 臣 訪 蜀 中 老將 清溪 旁 大路 自餘 小徑 無數 東蠻 臨時 爲之 開通 若言 塞 則是 欺罔 朝廷 要須 大度水 築 城 迤邐 接 黎州 大兵 守之 方可 況 聞 南詔 掠 蜀 人 二千 金帛 賂遺 吐蕃 若使 虜 知 蜀 虚實 連兵 入寇 誠 深憂 朝臣 建 言者 蓋 禍 不在 身 望人 責 一状 留 入 堂案 他日 敗事 不可 令 臣 獨當 國憲 朝廷 從 請 徳裕 練 士卒 葺 堡 鄣 積 糧儲 備邊 蜀 人 粗安<p>\n",
       "2 0.3117 唐王 既 克 長安 書 諭 郡縣 於是 東 商洛 南 巴 蜀 郡縣 長吏 盜賊 渠帥 氐 羌酋 長 爭 遣 子弟 入見 請降 有司 復書 日以 百數<p>\n",
       "mmseg: Query Document:\n",
       "王世充 既 得 東都 兵 撃 李密 洛 敗 遂 屯 鞏 辛酉 世充 命 軍 各 造 浮 橋 渡 洛 撃 密 橋 先 成 先 後 虎 賁 郎 王辯 破 密 柵 密 營 中 驚 擾 潰 世充 知 鳴 角 收 衆 密 因 帥 死 士 乘 世充 大 敗 爭 橋 溺 死 餘 人 王辯 死 世充 僅 免 洛 軍 潰 世充 入 東都 趣 河陽 夜 疾 風 寒 雨 軍 士 渉 水 沾 濕 道 路 凍 死 數 世充 獨 數 人 河陽 繋 獄 請 罪 越王侗 遣 使 赦 召 東都 賜 金 帛 美 安 意 世充 收 合 亡 散 得 餘 人 屯 含嘉城 復 出<p>\n",
       "Response<p>\n",
       "2732 0.3361 甲寅 制 復 正 月 爲 月 月 爲 正 月 赦 天 下<p>\n",
       "8126 0.2910 春 正 月 魏王佾 薨<p>\n",
       "5973 0.2910 正 月 雨 秋 月<p>\n",
       "2631 0.2860 先 暦 官 月 爲 正 月 臘 月 爲 閏 后 欲 正 月 甲子 朔 冬 下 制 爲 晦 仍 見 月 爽 天 經 今 月 爲 閏 月 月 爲 正 月<p>\n",
       "5716 0.2521 春 正 月 己巳 襄王僙 薨</p>"
      ],
      "text/plain": [
       "<IPython.core.display.HTML object>"
      ]
     },
     "metadata": {},
     "output_type": "display_data"
    }
   ],
   "source": [
    "res=ktm.get_simdocs(models, 3)\n",
    "display(HTML(\"<h1>5. Document by similarity</h1>\"))\n",
    "display(HTML(\"<p>%s</p>\" % (\"<p>\\n\".join(ktm.print_simdocs(res, html=True)))))"
   ]
  }
 ],
 "metadata": {
  "kernelspec": {
   "display_name": "Python 2",
   "language": "python",
   "name": "python2"
  },
  "language_info": {
   "codemirror_mode": {
    "name": "ipython",
    "version": 2
   },
   "file_extension": ".py",
   "mimetype": "text/x-python",
   "name": "python",
   "nbconvert_exporter": "python",
   "pygments_lexer": "ipython2",
   "version": "2.7.11"
  },
  "name": "Untitled3.ipynb"
 },
 "nbformat": 4,
 "nbformat_minor": 2
}
