{
 "cells": [
  {
   "cell_type": "markdown",
   "metadata": {},
   "source": [
    "# Comparison of topic models for different number of topics\n",
    "\n",
    "To evaluate the influence of the number of topics on the topic model results, the same corpus has been trained several times using gensims LDA model. The parameters for the training runs are\n",
    "* document length varies, average is 250 tokens\n",
    "* automatic re-evaluation of alpha and eta values\n",
    "* 2000 iterations with 5 passes over the corpus\n",
    "* Tokenization using mmseg with a dictionary of frequently used terms of Classical Chinese (ca 3600 entries of 2 or more characters) and the character frequencies of the Kanseki Repository\n",
    "\n",
    "## The following labels have been used:\n",
    "\n",
    "* The number of topics is also the label of the models.\n",
    "\n",
    "## Evaluation points\n",
    "\n",
    "1. Topic term table\n",
    "2. Distribution of alpha values\n",
    "3. Cooccurrence of tokens in the top 20 topic terms\n",
    "4. Topics for term\n",
    "5. Document by similarity\n"
   ]
  },
  {
   "cell_type": "code",
   "execution_count": 1,
   "metadata": {
    "autoscroll": false,
    "ein.tags": "worksheet-0",
    "slideshow": {
     "slide_type": "-"
    }
   },
   "outputs": [
    {
     "data": {
      "text/html": [
       "<h1>1. Topic term table</h1>"
      ],
      "text/plain": [
       "<IPython.core.display.HTML object>"
      ]
     },
     "metadata": {},
     "output_type": "display_data"
    },
    {
     "data": {
      "text/html": [
       "<p>Topic terms of all models, arranged by descending alpha value</p>"
      ],
      "text/plain": [
       "<IPython.core.display.HTML object>"
      ]
     },
     "metadata": {},
     "output_type": "display_data"
    },
    {
     "data": {
      "text/html": [
       "<table><hr><td>#</td><td>alpha</td><td>Topic Terms (020)</td><td>#</td><td>alpha</td><td>Topic Terms (040)</td><td>#</td><td>alpha</td><td>Topic Terms (060)</td><td>#</td><td>alpha</td><td>Topic Terms (080)</td><td>#</td><td>alpha</td><td>Topic Terms (100)</td></hr>\n",
       "<tr><td>15</td><td>0.0877</td><td>今 陛下 必 天 能 欲 相 知 心 國</td><td>3</td><td>0.0473</td><td>同 侍 平 郎 章 書 部 尚 門 加</td><td>1</td><td>0.0422</td><td>郎 侍 書 同 部 平 尚 戸 門 吏</td><td>27</td><td>0.0340</td><td>郎 侍 同 書 平 部 門 尚 戸 罷</td><td>48</td><td>0.0239</td><td>平 同 章 侍 郎 部 書 戸 門 罷</td><tr>\n",
       "<tr><td>11</td><td>0.0711</td><td>書 士 官 相 郎 侍 門 部 學 司</td><td>30</td><td>0.0471</td><td>城 攻 賊 守 衆 戰 引 圍 撃 救</td><td>21</td><td>0.0383</td><td>城 賊 守 攻 戰 衆 圍 士 出 引</td><td>24</td><td>0.0296</td><td>城 出 士 圍 衆 夜 入 引 攻 騎</td><td>99</td><td>0.0225</td><td>正 春 車 駕 東都 甲子 戊寅 冬 戊申 壬申</td><tr>\n",
       "<tr><td>10</td><td>0.0707</td><td>同 平 章 侍 郎 部 書 兼 加 尚</td><td>11</td><td>0.0465</td><td>陛下 知 相 今 天 必 欲 用 能 君</td><td>53</td><td>0.0351</td><td>今 必 天 行 相 已 欲 時 能 用</td><td>19</td><td>0.0264</td><td>請 廬州 澤州 仕 致 承嗣 滉 元忠 瑄 書</td><td>51</td><td>0.0220</td><td>戰 城 出 衆 賊 騎 引 撃 走 士</td><tr>\n",
       "<tr><td>0</td><td>0.0691</td><td>刺 州 克用 鎭 討 河東 攻 詔 留 守</td><td>10</td><td>0.0426</td><td>討 行 營 招 道 詔 都 總 京兆 統</td><td>59</td><td>0.0337</td><td>相 用 多 賦 道 奏 財 宰 先 士</td><td>25</td><td>0.0256</td><td>留 後 鎭 河中 知 泚 昭義 鳳翔 魏博 詔</td><td>83</td><td>0.0213</td><td>司 兼 行 馬 乙亥 甲寅 府 乙丑 令 空</td><tr>\n",
       "<tr><td>13</td><td>0.0677</td><td>城 賊 衆 餘 出 騎 數 入 斬 戰</td><td>19</td><td>0.0424</td><td>后 見 相 宮 疾 日 召 入 母 公</td><td>52</td><td>0.0335</td><td>兼 薨 僕 書 罷 射 校 令 檢 侍</td><td>69</td><td>0.0251</td><td>正 春 改 赦 天 丙申 辛巳 刺 己丑 朔</td><td>50</td><td>0.0208</td><td>薨 校 檢 己丑 丁酉 丙午 騎 壬戌 常侍 山南東道</td><tr>\n",
       "<tr><td>12</td><td>0.0671</td><td>數 錢 士 餘 民 給 家 府 財 官</td><td>23</td><td>0.0414</td><td>刺 留 後 貶 知 廷 魏博 朝 押 殺</td><td>57</td><td>0.0323</td><td>正 春 淮南 天 赦 改 神 號 廣陵 山南東道</td><td>62</td><td>0.0236</td><td>章 平 宦官 充 加 同 制 籍 丁 田</td><td>31</td><td>0.0206</td><td>都 討 招 督 副 馬 留 知 徐州 行</td><tr>\n",
       "<tr><td>3</td><td>0.0659</td><td>駢 都 寇 神 用之 突 戍 帥 置 邊</td><td>25</td><td>0.0412</td><td>薨 僕 射 后 南詔 少 司 書 立 皇</td><td>5</td><td>0.0300</td><td>刺 攻 敗 破 殺 江 陷 撃 斬 幽州</td><td>39</td><td>0.0235</td><td>蕃 吐 廣陵 盧龍 寇 輸 奏 隴右 承宗 船</td><td>73</td><td>0.0202</td><td>年 官 數 歳 給 賦 用 時 食 多</td><tr>\n",
       "<tr><td>5</td><td>0.0631</td><td>相 死 罪 奏 知 察 怒 殺 等 復</td><td>39</td><td>0.0411</td><td>賊 出 入 士 衆 城 餘 日 夜 數</td><td>55</td><td>0.0297</td><td>知 卿 能 陛下 理 朕 相 諫 善 問</td><td>5</td><td>0.0234</td><td>賊 衆 陷 戰 守 拒 攻 死 殺 帥</td><td>71</td><td>0.0199</td><td>攻 救 刺 陷 賊 據 衆 黄巣 帥 奔</td><tr>\n",
       "<tr><td>2</td><td>0.0630</td><td>正 春 後 留 薨 南詔 幸 温 冬 全忠</td><td>14</td><td>0.0410</td><td>相 公 宰 功 朝 朕 卿 宦官 心 復</td><td>18</td><td>0.0286</td><td>車 駕 幸 茂貞 鳳翔 李茂貞 東都 忠武 全忠 八</td><td>41</td><td>0.0224</td><td>州 縣 鎭 民 給 餘 年 賦 令 官</td><td>86</td><td>0.0196</td><td>赦 改 天 忠武 甲申 丙寅 戊辰 監 壬辰 戊子</td><tr>\n",
       "<tr><td>19</td><td>0.0622</td><td>攻 撃 戰 全忠 敗 衆 破 行密 賊 救</td><td>21</td><td>0.0400</td><td>正 春 駕 車 赦 天 幸 宮 改 東都</td><td>0</td><td>0.0278</td><td>撃 全忠 攻 朱全忠 克用 破 戰 救 騎 引</td><td>56</td><td>0.0220</td><td>司 加 兼 河東 客 同 夏 賓 壬寅 平</td><td>35</td><td>0.0186</td><td>泚 丙申 刺 潤州 等 庚寅 滉 長 渥 瑄</td><tr>\n",
       "<tr><td>4</td><td>0.0587</td><td>吐 蕃 刺 日 朔 思明 食 祿山 大梁 請</td><td>27</td><td>0.0380</td><td>士 令 奏 時 財 道 府 縣 從 行</td><td>15</td><td>0.0275</td><td>朝 廷 今 且 請 欲 國 必 許 公</td><td>75</td><td>0.0214</td><td>陛下 朕 卿 諫 日 今 欲 知 相 天</td><td>37</td><td>0.0183</td><td>州 鎭 汴 鹽 刺 等 領 鄆 淮西 詔</td><tr>\n",
       "<tr><td>18</td><td>0.0583</td><td>官 奏 制 令 請 部 御 詔 政 賦</td><td>35</td><td>0.0375</td><td>司 兼 充 校 運 領 檢 鐵 書 戸</td><td>56</td><td>0.0275</td><td>陛下 日 天 朕 見 母 泣 今 位 欲</td><td>47</td><td>0.0214</td><td>刺 司 貶 馬 河東 丙寅 戊申 太原 尉 尋</td><td>62</td><td>0.0182</td><td>留 後 淮南 河中 秋 知 薨 魏博 徙 昭義</td><tr>\n",
       "<tr><td>9</td><td>0.0550</td><td>皇 后 鶻 宦官 宮 入 帝 天 等 朝</td><td>13</td><td>0.0367</td><td>破 撃 蠻 餘 敗 斬 攻 戰 奏 朱全忠</td><td>6</td><td>0.0273</td><td>我 汝 入 數 士 出 募 馬 民 道</td><td>53</td><td>0.0214</td><td>攻 撃 破 餘 斬 拔 敗 衆 等 克用</td><td>22</td><td>0.0181</td><td>請 表 許 朝 迎 且 復 詔 入 懼</td><tr>\n",
       "<tr><td>7</td><td>0.0544</td><td>都 馬 行 留 討 等 副 後 河東 營</td><td>38</td><td>0.0366</td><td>今 國 必 宜 安 天 税 昌 時 利</td><td>26</td><td>0.0271</td><td>章 樞 華州 表 充 朝 請 相 平 賂</td><td>71</td><td>0.0207</td><td>心 天 今 必 能 知 誅 安 欲 已</td><td>81</td><td>0.0178</td><td>守 賊 江 淮 河 鋒 渡 備 河北 堅</td><tr>\n",
       "<tr><td>1</td><td>0.0543</td><td>建 天 刺 赦 請 錢鏐 王建 鏐 改 師鐸</td><td>34</td><td>0.0362</td><td>汝 今 我 王 能 數 入 出 民 家</td><td>45</td><td>0.0264</td><td>衆 騎 餘 入 數 出 走 殺 帥 馬</td><td>3</td><td>0.0205</td><td>皇 后 天 帝 號 立 尊 位 宗 羣</td><td>24</td><td>0.0177</td><td>或 見 心 惡 疾 知 召 能 令 專</td><tr>\n",
       "<tr><td>14</td><td>0.0496</td><td>貶 弟 司 后 立 兄 母 刺 死 官</td><td>1</td><td>0.0349</td><td>官 判 名 注 除 令 選 詔 流 州</td><td>32</td><td>0.0261</td><td>加 章 充 輸 同 陝 匹 辛酉 船 司</td><td>10</td><td>0.0203</td><td>冬 刺 忠武 乙亥 戊寅 甲申 隸 蘇州 鎭海 鎭</td><td>98</td><td>0.0176</td><td>撃 破 總 管 餘 行 敗 斬 攻 邢州</td><tr>\n",
       "<tr><td>16</td><td>0.0490</td><td>公 士 汝 歸 我 日 衆 命 功 欲</td><td>15</td><td>0.0343</td><td>錢 緡 僧 居 賦 餘 用 斂 賜 民</td><td>34</td><td>0.0254</td><td>死 家 殺 杖 告 反 罪 誅 父 状</td><td>51</td><td>0.0202</td><td>都 突 厥 鶻 督 寇 部 衞 護 撃</td><td>10</td><td>0.0170</td><td>陛下 朕 卿 理 今 君 信 知 論 諫</td><tr>\n",
       "<tr><td>6</td><td>0.0455</td><td>囘 淮南 汴 可汗 國 紇 入 貢 部 請</td><td>20</td><td>0.0341</td><td>皇 神 天 帝 號 立 尊 策 國 制</td><td>14</td><td>0.0250</td><td>討 蠻 招 蜀 營 都 行 詔 成都 統</td><td>60</td><td>0.0202</td><td>蠻 黨 南詔 成都 辛酉 安南 温 項 丁丑 奏</td><td>43</td><td>0.0169</td><td>相 宰 議 疾 用 諫 薦 徳裕 李徳裕 惡</td><tr>\n",
       "<tr><td>17</td><td>0.0451</td><td>車 駕 全忠 請 押 茂貞 幸 復 入 從</td><td>36</td><td>0.0337</td><td>吐 蕃 寇 突 厥 朔方 撃 黨 項 破</td><td>36</td><td>0.0244</td><td>宦官 南詔 錢 税 歳 商 請 貨 市 縣</td><td>66</td><td>0.0201</td><td>汴 薨 全忠 朱全忠 候 刺 都 虞 鄆 戊午</td><td>74</td><td>0.0168</td><td>后 皇 帝 立 辛酉 壬寅 殿 頭 位 即</td><tr>\n",
       "<tr><td>8</td><td>0.0409</td><td>殺 謀 朝 密 胤 請 知 告 牙 欲</td><td>5</td><td>0.0332</td><td>御 奏 官 丞 請 罪 等 司 制 侍</td><td>42</td><td>0.0243</td><td>蕃 吐 留 後 盧龍 平盧 寇 奏 院 丁丑</td><td>2</td><td>0.0201</td><td>今 相 山南東道 賞 宜 彼 服 山南西道 變 兩</td><td>88</td><td>0.0166</td><td>蠻 奏 幽州 盧龍 辛卯 安南 討 破 平盧 奚</td><tr>\n",
       "<tr><td>12</td><td>0.0323</td><td>克用 騎 衆 殺 帥 滔 歸 馬 戰 引</td><td>10</td><td>0.0243</td><td>押 刺 賓 庚申 衞 客 護 丙午 都 姪</td><td>30</td><td>0.0197</td><td>賜 入 獻 士 宣 賞 厚 貢 絳 拜</td><td>56</td><td>0.0165</td><td>士 河東 學 經 翰林 監 國 時 略 舞</td><tr>\n",
       "<tr><td>16</td><td>0.0321</td><td>都 錢鏐 督 泚 盧龍 潞州 等 徐州 杭州 爵</td><td>16</td><td>0.0242</td><td>戊戌 甲寅 丙辰 希烈 戊子 文 丁亥 員外 甲子 學</td><td>36</td><td>0.0194</td><td>行 營 副 討 都 馬 道 充 邠寧 帥</td><td>11</td><td>0.0163</td><td>錢 緡 甲辰 蘇州 賜 刺 庚午 監 汴州 廬州</td><tr>\n",
       "<tr><td>33</td><td>0.0320</td><td>河東 淮南 荊南 州 山南東道 ‧ 留 山南西道 鎭 丙寅</td><td>11</td><td>0.0242</td><td>殺 汴 等 死 鄆 召 罪 斬 冤 囚</td><td>23</td><td>0.0193</td><td>今 必 國 陛下 邊 能 用 弊 致 失</td><td>93</td><td>0.0163</td><td>今 天 安 國 生 願 陛下 必 心 王</td><tr>\n",
       "<tr><td>8</td><td>0.0319</td><td>蜀 巣 宣 牒 受 印 官 壽州 山 南詔</td><td>54</td><td>0.0240</td><td>鎭 都 副 留 行 朔方 知 馬 等 河東</td><td>8</td><td>0.0193</td><td>建 置 部 地 京兆 長 州 酋 分 請</td><td>91</td><td>0.0160</td><td>公 主 誅 問 欲 卿 相 謀 見 獨</td><tr>\n",
       "<tr><td>6</td><td>0.0313</td><td>朔 日 食 仙芝 寶 己酉 鎔 珍 義武 壬申</td><td>29</td><td>0.0239</td><td>泚 思明 稹 仙芝 閣 澤州 璘 長 滉 元忠</td><td>14</td><td>0.0192</td><td>禁 滔 能 京城 出 官 用 時 佛 王</td><td>90</td><td>0.0159</td><td>汝 我 殺 死 欲 京兆 歸 公 思明 罪</td><tr>\n",
       "<tr><td>22</td><td>0.0308</td><td>反 客 告 鏐 死 謀 殺 賓 獄 家</td><td>25</td><td>0.0238</td><td>駢 朔 用之 日 食 刺 師鐸 行密 楊行密 河陽</td><td>12</td><td>0.0191</td><td>公 主 家 欲 朝 族 相 今 母 且</td><td>57</td><td>0.0157</td><td>觀 察 廷 羣 許州 湖南 朝 太宗 傳 己卯</td><tr>\n",
       "<tr><td>0</td><td>0.0305</td><td>囘 鶻 部 紇 可汗 陀 蕃 吐 沙 入</td><td>19</td><td>0.0234</td><td>士 巣 賊 從 日 宣慰 焚 已 入 懷光</td><td>67</td><td>0.0186</td><td>權 部 書 尚 判 支 知 吏 侍 兼</td><td>55</td><td>0.0156</td><td>城 士 亂 登 民 焚 作 鼓 攻 樓</td><tr>\n",
       "<tr><td>32</td><td>0.0298</td><td>鹽 支 防 禦 師道 刺 邢州 州 魏州 青州</td><td>58</td><td>0.0231</td><td>士 指 揮 學 王 天 等 明 名 令</td><td>42</td><td>0.0185</td><td>僕 射 爵 官 壬午 癸巳 錡 渥 紫 弟</td><td>66</td><td>0.0155</td><td>尹 御 按 官 法 命 擢 擇 承 辨</td><tr>\n",
       "<tr><td>29</td><td>0.0298</td><td>全忠 請 表 詔 朝 茂貞 入 奉 李茂貞 歸</td><td>33</td><td>0.0231</td><td>練 魏 僧 京師 詔 留 寺 州 道 太原</td><td>45</td><td>0.0183</td><td>謀 殺 反 密 告 死 等 后 罪 誅</td><td>59</td><td>0.0155</td><td>黨 赴 廣陵 歸 焚 甲午 項 擒 捷 仁厚</td><tr>\n",
       "<tr><td>28</td><td>0.0298</td><td>察 觀 都 等 州 乙亥 徐 護 安南 湖南</td><td>46</td><td>0.0229</td><td>防 表 魏博 留 後 建 禦 東川 歸 知</td><td>63</td><td>0.0182</td><td>騎 戰 吐 敗 撃 虜 蕃 餘 破 谷</td><td>76</td><td>0.0155</td><td>今 利 力 用 賞 能 功 資 復 庫</td><tr>\n",
       "<tr><td>37</td><td>0.0290</td><td>士 學 儒 鄆 稹 江 乙巳 淮 倉 甲午</td><td>8</td><td>0.0227</td><td>尹 建 尉 絳 殷 禁 兗州 公 民 梓州</td><td>52</td><td>0.0180</td><td>兼 西川 東川 書 癸未 令 加 王建 茂貞 陳敬瑄</td><td>33</td><td>0.0155</td><td>食 朔 日 南詔 夏 壬子 氣 損 諷 答</td><tr>\n",
       "<tr><td>4</td><td>0.0289</td><td>馬 丙申 扈 匹 己未 請 鄆州 賜 興 突</td><td>49</td><td>0.0227</td><td>祿山 薦 京兆 乙未 知 林甫 權 廬州 御 安祿山</td><td>65</td><td>0.0180</td><td>宰 相 用 官 理 政 奏 多 才 制</td><td>40</td><td>0.0152</td><td>官 郎 吏 部 注 員外 侍 才 選 權</td><tr>\n",
       "<tr><td>7</td><td>0.0283</td><td>樞 忠武 大梁 濬 希烈 温 全忠 名 質 巡</td><td>17</td><td>0.0222</td><td>貶 司 刺 鹽 馬 奏 滔 坐 御 罪</td><td>7</td><td>0.0178</td><td>杖 乙未 庚戌 癸卯 甲子 樓 母 同州 叔文 叱</td><td>54</td><td>0.0152</td><td>神 建 策 戍 制 從 置 祀 潞州 天</td><tr>\n",
       "<tr><td>9</td><td>0.0283</td><td>駢 都 鳳翔 用之 候 虞 團 府 隸 高駢</td><td>22</td><td>0.0222</td><td>皇 后 帝 立 宗 室 廟 遷 制 官</td><td>57</td><td>0.0178</td><td>我 汝 見 死 出 日 泣 聞 入 哭</td><td>2</td><td>0.0151</td><td>書 尚 令 部 門 禮 舍人 奉 庶 吏</td><tr>\n",
       "<tr><td>31</td><td>0.0278</td><td>建 田 戍 工 服 燧 公 治 王建 從</td><td>13</td><td>0.0221</td><td>判 河東 全忠 公 主 大梁 乙亥 請 官 迎</td><td>9</td><td>0.0178</td><td>尹 丙子 殷 丁巳 羽 姪 毀 宅 珍 衢州</td><td>39</td><td>0.0148</td><td>加 奏 團 丙戌 義武 姪 隱 副 詳 令</td><tr>\n",
       "<tr><td>26</td><td>0.0275</td><td>汴 師鐸 殺 宣州 院 等 勛 妻 死 澤州</td><td>38</td><td>0.0215</td><td>鐵 徐州 亂 團 運 略 徐 經 廷 州</td><td>54</td><td>0.0177</td><td>防 幽州 河北 平盧 魏州 癸亥 祿山 薦 悦 眞卿</td><td>64</td><td>0.0148</td><td>獻 癸巳 乙酉 米 興元 庚辰 澤州 郊 尊 封</td><tr>\n",
       "<tr><td>2</td><td>0.0254</td><td>鎭 河陽 魏 昭義 罕之 河北 李罕之 全忠 河南 張全義</td><td>50</td><td>0.0214</td><td>鶻 巡 樓 奉天 乙巳 丁卯 宴 御 毬 渭</td><td>29</td><td>0.0176</td><td>遺 弟 流 議 嗣 禮 拾 廟 父 兄</td><td>78</td><td>0.0146</td><td>相 官 宰 賀 權 政 視 奏 朝 後</td><tr>\n",
       "<tr><td>17</td><td>0.0247</td><td>祿山 丹 全忠 光弼 契 克用 仁恭 溥 奚 己亥</td><td>20</td><td>0.0211</td><td>官 封 癸丑 式 乙卯 州 京畿 燕 配 俸</td><td>68</td><td>0.0175</td><td>駢 食 朔 用之 日 昌 華州 戊戌 高駢 秋</td><td>45</td><td>0.0146</td><td>法 僧 刑 福 寛 罪 寺 禁 犯 禍</td><tr>\n",
       "<tr><td>24</td><td>0.0247</td><td>晟 子儀 思明 懷光 我 入 郭子儀 懷恩 李晟 遂</td><td>39</td><td>0.0204</td><td>突 厥 寇 夏 辛丑 州 總 屯 管 施</td><td>21</td><td>0.0174</td><td>觀 察 練 道 河 浙東 浙西 宣歙 展 士</td><td>17</td><td>0.0145</td><td>巡 乞 輸 徵 船 隴右 農 價 甥 感</td><tr>\n",
       "<tr><td>18</td><td>0.0237</td><td>牙 延 承宗 田令孜 庚戌 欲 憤 播 天 發</td><td>27</td><td>0.0201</td><td>可汗 貢 入 遏 鎭 藩 鎔 册 部 燧</td><td>79</td><td>0.0173</td><td>幸 丁卯 庚申 孫 宮 乙卯 晉陽 曾 獵 升</td><td>58</td><td>0.0144</td><td>鐵 樞 少 辛巳 濬 壬午 傅 丁卯 鎔 質</td><tr>\n",
       "<tr><td>48</td><td>0.0200</td><td>觀 察 師道 己酉 館 庚寅 劍 殺 辛巳 讜</td><td>26</td><td>0.0173</td><td>功 乞 廷 朝 罪 靈武 時 欲 端 深州</td><td>68</td><td>0.0144</td><td>己亥 院 乙巳 宣州 丙辰 乙卯 庚子 權 杖 尋</td><tr>\n",
       "<tr><td>4</td><td>0.0199</td><td>爵 官 贈 等 諡 常侍 河西 追 騎 散</td><td>17</td><td>0.0172</td><td>監 御 奏 罪 死 冤 察 按 命 丞</td><td>49</td><td>0.0144</td><td>財 戸 民 八 家 租 餘 縣 田 范陽</td><tr>\n",
       "<tr><td>12</td><td>0.0198</td><td>焚 己未 潮 號 服 尸 翰 衣 賜 内</td><td>16</td><td>0.0172</td><td>士 學 翰林 儒 訓 經 時 章 博 帖</td><td>89</td><td>0.0143</td><td>僕 射 甲戌 致 仕 書 鳳翔 青州 兩浙 載</td><tr>\n",
       "<tr><td>31</td><td>0.0198</td><td>監 第 視 奏 諫 宮 御 畋 叔文 疏</td><td>74</td><td>0.0171</td><td>金 服 衣 印 銀 道 成 玉 器 饋</td><td>87</td><td>0.0142</td><td>蕃 吐 寇 干 借 破 奏 撃 班 八</td><tr>\n",
       "<tr><td>37</td><td>0.0197</td><td>議 癸亥 諫 禮 病 廢 龍 兩浙 綰 世</td><td>20</td><td>0.0171</td><td>指 揮 屯 沙 禦 陀 州 朱全忠 守 代</td><td>97</td><td>0.0142</td><td>揮 指 晟 漢 天 今 亂 極 疏 窮</td><tr>\n",
       "<tr><td>24</td><td>0.0193</td><td>沙 陀 悟 士 均 巖 學 詔 葬 湖南</td><td>76</td><td>0.0171</td><td>丁酉 武俊 卒 江西 神福 潤州 甲 襲 歸 華</td><td>44</td><td>0.0142</td><td>突 厥 寇 禦 戊午 長 部 邊 降 帥</td><tr>\n",
       "<tr><td>23</td><td>0.0193</td><td>黨 河南 項 錢 運 米 鉞 河 戊申 八</td><td>72</td><td>0.0170</td><td>招 討 淮南 辛未 兗 奏 庚午 徐 請 攝</td><td>16</td><td>0.0142</td><td>必 朝 廷 今 欲 心 士 勢 謀 且</td><tr>\n",
       "<tr><td>2</td><td>0.0190</td><td>吐 蕃 谷 渾 國 戊辰 請 庚辰 誥 廬</td><td>0</td><td>0.0169</td><td>車 神 駕 策 令孜 全忠 東都 幸 建 脩</td><td>26</td><td>0.0138</td><td>卒 爵 ‧ 立 副 弟 官 名 削 安西</td><tr>\n",
       "<tr><td>3</td><td>0.0190</td><td>緡 鏐 入 晟 朝 出 請 李晟 召 謀</td><td>70</td><td>0.0165</td><td>行密 巡 亂 財 乙巳 宣州 頵 作 貨 掠</td><td>12</td><td>0.0138</td><td>貶 刺 仙芝 馬 衞 宿 黨 坐 監 怒</td><tr>\n",
       "<tr><td>47</td><td>0.0189</td><td>温 昌 宮 宅 傳 密 崔胤 宣 輔國 禁</td><td>55</td><td>0.0165</td><td>胤 鎭 今 日 崔胤 宜 嚴 令 語 恐</td><td>60</td><td>0.0137</td><td>統 營 庚戌 癸未 容 行 道 横海 雅 易定</td><tr>\n",
       "<tr><td>9</td><td>0.0187</td><td>克用 僚 李克用 河東 佐 潞州 詔 致 復恭 河中</td><td>31</td><td>0.0164</td><td>府 徐州 掠 剽 監 州 癸酉 河朔 刺 衞</td><td>82</td><td>0.0136</td><td>呼 壽州 喪 嗣 等 乙未 扶 刀 拜 孝</td><tr>\n",
       "<tr><td>35</td><td>0.0186</td><td>囘 紇 甲辰 濬 振武 質 等 瓌 歸 隊</td><td>33</td><td>0.0162</td><td>緡 入 出 錢 宿 衞 相 門 朝 官</td><td>38</td><td>0.0135</td><td>判 支 濟 獄 誣 奏 叔文 癸卯 繋 收</td><tr>\n",
       "<tr><td>40</td><td>0.0186</td><td>衞 刺 州 策 神 尉 鹽州 邛州 高麗 等</td><td>46</td><td>0.0161</td><td>江 淮 水 舟 扈 舍 支 旱 泗州 河</td><td>96</td><td>0.0135</td><td>寶 盜 横 印 己巳 珍 訴 貨 符 怒</td><tr>\n",
       "<tr><td>43</td><td>0.0184</td><td>名 光弼 移 從諫 憤 李光弼 沮 姓 流 茂章</td><td>18</td><td>0.0160</td><td>總 管 行 己巳 施 降 洞 雲州 幷州 突騎</td><td>13</td><td>0.0134</td><td>充 宣 荊南 辛亥 鎭海 潮 刺 宋州 哭 場</td><tr>\n",
       "<tr><td>28</td><td>0.0183</td><td>行密 儒 舟 贊 江 忠義 揚州 普 婺州 頵</td><td>1</td><td>0.0160</td><td>密 送 迎 詣 都 等 全忠 謀 鳳翔 兗州</td><td>1</td><td>0.0134</td><td>河陽 防 昭義 全義 詔 歸 罕之 表 留 恭</td><tr>\n",
       "<tr><td>44</td><td>0.0183</td><td>虞 候 殺 都 送 等 世充 帥 珂 横</td><td>78</td><td>0.0160</td><td>錢 米 運 轉 興元 多 倉 翰 斗 行</td><td>0</td><td>0.0134</td><td>鶻 客 賓 奉天 遺 渭 詔 入 闔 出</td><tr>\n",
       "<tr><td>7</td><td>0.0179</td><td>懷恩 銀 訪 光 餉 到 采 求 黠 祿</td><td>64</td><td>0.0160</td><td>徳裕 李徳裕 議 稹 悟 畋 贈 詔 魏 趙</td><td>46</td><td>0.0133</td><td>東川 殺 斬 餘 捕 朱玫 敕使 出 王建 幽</td><tr>\n",
       "<tr><td>30</td><td>0.0178</td><td>寨 勛 客 仁厚 朱玫 歸 日 詣 樂 官</td><td>4</td><td>0.0160</td><td>雄 今 亂 敕使 難 代 富 功 柄 災</td><td>4</td><td>0.0132</td><td>逐 魏 是歳 趙 江西 滄州 仁恭 邢 亂 境</td><tr>\n",
       "<tr><td>51</td><td>0.0176</td><td>丹 注 契 江西 都 鄭注 奚 試 部 詢</td><td>77</td><td>0.0158</td><td>克用 表 請 廷 朝 據 書 唐 潞州 李克用</td><td>34</td><td>0.0132</td><td>和 屯 營 蕃 子儀 李晟 吐 郭子儀 移 渾瑊</td><tr>\n",
       "<tr><td>41</td><td>0.0173</td><td>宰 相 盟 鳳 訓 書 代 輿 知 宗閔</td><td>59</td><td>0.0157</td><td>官 吏 判 選 注 奏 職 試 文 補</td><td>61</td><td>0.0131</td><td>囘 紇 可汗 陀 沙 部 入 國 等 貢</td><tr>\n",
       "<tr><td>35</td><td>0.0156</td><td>壬申 己亥 市 隱 錢 惡 常侍 互 疾 官</td><td>85</td><td>0.0130</td><td>儒 悟 詰 希烈 檄 聞 綰 好 召 黠</td><tr>\n",
       "<tr><td>48</td><td>0.0154</td><td>河陽 和 主 請 寶 封 罕之 郊 朝 復</td><td>28</td><td>0.0130</td><td>宮 幸 温 屠 弘 師範 獵 乘輿 迎 讀</td><tr>\n",
       "<tr><td>38</td><td>0.0151</td><td>牙 押 飮 酒 辛亥 起 居 王 宴 詩</td><td>84</td><td>0.0130</td><td>蜀 牙 成都 西川 王建 建 陳敬瑄 敬瑄 殺 鄆州</td><tr>\n",
       "<tr><td>40</td><td>0.0151</td><td>甲寅 遷 刺 丙午 申 兩浙 武寧 王鐸 璋 王智興</td><td>6</td><td>0.0130</td><td>等 反 嶺南 告 殺 河南 死 謀 賂 割</td><tr>\n",
       "<tr><td>44</td><td>0.0151</td><td>宣慰 朝 世充 賀 劍 表 命 請 入 詔</td><td>69</td><td>0.0129</td><td>歩 掠 騎 師道 殺 降 士 剽 重 河朔</td><tr>\n",
       "<tr><td>11</td><td>0.0149</td><td>守 思明 光弼 邢州 潼關 朝義 室 涯 從諫 李光弼</td><td>75</td><td>0.0128</td><td>滔 悦 樂 禮 君 侯 恨 能 義 待</td><tr>\n",
       "<tr><td>58</td><td>0.0149</td><td>蜀 賂 奉天 許州 小 行 受 遺 太廟 夾</td><td>70</td><td>0.0128</td><td>晏 憤 柄 士 金 知 參 重 府 彭城</td><tr>\n",
       "<tr><td>34</td><td>0.0148</td><td>統 名 都 院 面 借 高麗 鎭 陝州 狼</td><td>30</td><td>0.0128</td><td>除 官 刺 杭州 率 坊 簡 次 佐 市</td><tr>\n",
       "<tr><td>6</td><td>0.0147</td><td>鹽 鐵 丹 勛 契 朱玫 常州 玫 宿州 擒</td><td>3</td><td>0.0128</td><td>藩 位 鎭 令孜 畋 即 遊 復恭 宜 繼</td><tr>\n",
       "<tr><td>28</td><td>0.0145</td><td>全忠 大梁 僚 牒 林甫 鳳 幕 鄧 蒋玄暉 琮</td><td>72</td><td>0.0127</td><td>馬 光弼 市 晉 敵 貪 功 求 勇 李光弼</td><tr>\n",
       "<tr><td>50</td><td>0.0145</td><td>師道 丁亥 移 倚 請 表 小 恭 緯 矯</td><td>5</td><td>0.0125</td><td>蔡 宗 攝 懷恩 王 室 從 貴 儉 富</td><tr>\n",
       "<tr><td>15</td><td>0.0144</td><td>囘 紇 可汗 振武 等 國 襄陽 殺 立 葛</td><td>53</td><td>0.0125</td><td>補 牒 募 林甫 遷 滿 選 奏 士 李林甫</td><tr>\n",
       "<tr><td>13</td><td>0.0143</td><td>河東 捕 子儀 求 盜 懷恩 留 長安 入 殺</td><td>41</td><td>0.0124</td><td>弟 兄 母 父 妻 燧 汝曹 悦 拜 約</td><tr>\n",
       "<tr><td>43</td><td>0.0141</td><td>輿 忠義 邛州 婺州 醉 睦州 夕 洛陽 邀 骨</td><td>36</td><td>0.0123</td><td>戊戌 癸丑 林 試 兩 施 光 紫 格 宣歙</td><tr>\n",
       "<tr><td>37</td><td>0.0141</td><td>樞 復恭 濬 杭州 質 師鐸 張濬 楊復恭 場 瓌</td><td>80</td><td>0.0123</td><td>鏐 遏 殘 幕 盟 僚 鎭 深州 王庭湊 揆</td><tr>\n",
       "<tr><td>73</td><td>0.0141</td><td>晟 兄 師鐸 怒 弟 欲 公 喜 謀 祐</td><td>21</td><td>0.0122</td><td>祿山 税 武 安祿山 龍 忠義 采 奏 茶 襄州</td><tr>\n",
       "<tr><td>22</td><td>0.0140</td><td>鏐 全忠 是歳 楊行密 弟 歸 存孝 鄆州 八 兄</td><td>23</td><td>0.0121</td><td>訓 服 宴 溥 血 祐 堂 酒 飮 詩</td><tr>\n",
       "<tr><td>61</td><td>0.0139</td><td>僧 團 寺 尼 宦 商 屋 徑 賜姓 道</td><td>94</td><td>0.0121</td><td>緒 竄 銀 帶 儲 越 藏 胡 黒 隴</td><tr>\n",
       "<tr><td>32</td><td>0.0139</td><td>林 蔡 龍 武 空 騎 容 屯 太師 衞</td><td>27</td><td>0.0121</td><td>道 練 鄰 地 餘 侵 詔 分 各 本</td><tr>\n",
       "<tr><td>49</td><td>0.0139</td><td>武 全義 緒 憤 難 贄 文 返 往 奪</td><td>65</td><td>0.0120</td><td>牙 押 脩 附 衆 雄 館 併 稟 都</td><tr>\n",
       "<tr><td>15</td><td>0.0120</td><td>宣慰 旌節 承宗 苑 朝 切 賣 側 昭宗 磁州</td><tr>\n",
       "<tr><td>95</td><td>0.0118</td><td>胤 朔方 崔胤 翰 巖 密 等 植 暉 帥</td><tr>\n",
       "<tr><td>25</td><td>0.0117</td><td>亟 等 用事 世充 謀 尉 鉞 休 泄 見</td><tr>\n",
       "<tr><td>79</td><td>0.0116</td><td>器 他 藥 承璀 工 仙 奇 材 璟 寤</td><tr>\n",
       "<tr><td>67</td><td>0.0116</td><td>虞 候 殺 紳 慢 罵 杖 公綽 逢吉 蔡州</td><tr>\n",
       "<tr><td>7</td><td>0.0116</td><td>臺 品 鳳 西 服 罔 鸞 青 音 樂</td><tr>\n",
       "<tr><td>63</td><td>0.0116</td><td>宦官 隸 視事 襄陽 搜 分 衞 入 等 禁</td><tr>\n",
       "<tr><td>52</td><td>0.0116</td><td>運 轉 斛 境 治 賞 思 岐 置 唱</td><tr>\n",
       "<tr><td>92</td><td>0.0115</td><td>城 世民 牛 導 羌 喧 入 郷 廂 寇</td><tr>\n",
       "<tr><td>19</td><td>0.0115</td><td>丹 契 河西 遵 嫁 爽 江南 晦 道 同捷</td><tr>\n",
       "<tr><td>8</td><td>0.0113</td><td>昌 華州 韓建 饋 董昌 李茂貞 興 洛陽 脩 濛</td><tr>\n",
       "<tr><td>9</td><td>0.0113</td><td>太原 河東 高麗 驍 宿州 脅 叔琮 衞 韓偓 入</td><tr>\n",
       "<tr><td>32</td><td>0.0113</td><td>全忠 克用 朱全忠 行密 李克用 楊行密 頵 田頵 晉陽 攻</td><tr>\n",
       "<tr><td>18</td><td>0.0113</td><td>駢 用之 高駢 徐 師鐸 愬 渉 行 元濟 發</td><tr>\n",
       "<tr><td>14</td><td>0.0110</td><td>屡 存孝 瑾 朱瑾 李克用 珂 汝州 克用 晉陽 族</td><tr>\n",
       "<tr><td>29</td><td>0.0109</td><td>石 刻 壇 滄 玉 山 金 受 拜 恆</td><tr>\n",
       "<tr><td>77</td><td>0.0109</td><td>錡 紛 贊 詬 驛 等 功 軌 虔州 將將</td><tr>\n",
       "<tr><td>47</td><td>0.0108</td><td>谷 渾 吐 輿 同州 恐熱 肩 婢婢 鑾 枕</td><tr>\n",
       "<tr><td>20</td><td>0.0106</td><td>閣 宅 贓 師鐸 侮 神劍 義昌 麟 晡 奉國</td><tr>\n",
       "<tr><td>42</td><td>0.0106</td><td>鹽州 播 宗閔 悰 爾 巨 再 牓 料 相</td><tr>\n",
       "</table>"
      ],
      "text/plain": [
       "<IPython.core.display.HTML object>"
      ]
     },
     "metadata": {},
     "output_type": "display_data"
    }
   ],
   "source": [
    "from IPython.core.display import display, HTML\n",
    "import ktm_analysis as ktm\n",
    "import numpy as np\n",
    "import matplotlib.pyplot as plt\n",
    "target=\"topic_number\"\n",
    "models = ktm.prepan(target)\n",
    "display(HTML(\"<h1>1. Topic term table</h1>\"))\n",
    "display(HTML(\"<p>Topic terms of all models, arranged by descending alpha value</p>\"))\n",
    "display(HTML(ktm.topic_terms_table(models, html=True)))"
   ]
  },
  {
   "cell_type": "code",
   "execution_count": 2,
   "metadata": {},
   "outputs": [
    {
     "data": {
      "text/html": [
       "<h1>2. Distribution of alpha values</h1>"
      ],
      "text/plain": [
       "<IPython.core.display.HTML object>"
      ]
     },
     "metadata": {},
     "output_type": "display_data"
    },
    {
     "data": {
      "image/png": "[encoded data removed]",
      "text/plain": [
       "<matplotlib.figure.Figure at 0x7f248c0433d0>"
      ]
     },
     "metadata": {},
     "output_type": "display_data"
    }
   ],
   "source": [
    "display(HTML(\"<h1>2. Distribution of alpha values</h1>\"))\n",
    "for m in models:\n",
    "    lda=m[0]\n",
    "    alpha=np.sort(lda.alpha)\n",
    "    plt.plot(alpha)\n",
    "plt.ylabel('alpha values')\n",
    "plt.xlabel('Topics')\n",
    "plt.legend([m[5] for m in models], loc='upper left')\n",
    "plt.show()"
   ]
  },
  {
   "cell_type": "code",
   "execution_count": 3,
   "metadata": {},
   "outputs": [
    {
     "data": {
      "text/html": [
       "<h1>3. Cooccurrence of tokens in the top 20 topic terms</h1>"
      ],
      "text/plain": [
       "<IPython.core.display.HTML object>"
      ]
     },
     "metadata": {},
     "output_type": "display_data"
    },
    {
     "data": {
      "image/png": "[encoded data removed]",
      "text/plain": [
       "<matplotlib.figure.Figure at 0x7f248c02b890>"
      ]
     },
     "metadata": {},
     "output_type": "display_data"
    }
   ],
   "source": [
    "num_words = 20\n",
    "display(HTML(\"<h1>3. Cooccurrence of tokens in the top %d topic terms</h1>\" % (num_words)))\n",
    "co=ktm.tab_co_list(ktm.get_tt_co(models, num_words=num_words))\n",
    "plt.plot(co[1], co[0], 'ro')\n",
    "plt.ylabel('Number of model/topic term pairs')\n",
    "plt.xlabel('Number of Instances')\n",
    "plt.show()"
   ]
  },
  {
   "cell_type": "code",
   "execution_count": 4,
   "metadata": {},
   "outputs": [
    {
     "data": {
      "text/html": [
       "<h1>4. Topics for term 平</h1>"
      ],
      "text/plain": [
       "<IPython.core.display.HTML object>"
      ]
     },
     "metadata": {},
     "output_type": "display_data"
    },
    {
     "data": {
      "text/plain": [
       "[('020', [(10, 0.049208889740062108)]),\n",
       " ('040', [(3, 0.065682667084235591)]),\n",
       " ('060',\n",
       "  [(1, 0.071230473176295786),\n",
       "   (26, 0.010966244150613296),\n",
       "   (38, 0.010611322115249551),\n",
       "   (52, 0.014814451792709484)]),\n",
       " ('080',\n",
       "  [(27, 0.062480607292764202),\n",
       "   (56, 0.020430989773207467),\n",
       "   (62, 0.073414869602508592)]),\n",
       " ('100', [(48, 0.10355462689002637)])]"
      ]
     },
     "execution_count": 4,
     "metadata": {},
     "output_type": "execute_result"
    }
   ],
   "source": [
    "term= u\"平\"\n",
    "display(HTML(\"<h1>4. Topics for term %s</h1>\" % (term)))\n",
    "ktm.topics_for_term(models, term)"
   ]
  },
  {
   "cell_type": "code",
   "execution_count": 5,
   "metadata": {},
   "outputs": [
    {
     "data": {
      "text/html": [
       "<h1>5. Document by similarity</h1>"
      ],
      "text/plain": [
       "<IPython.core.display.HTML object>"
      ]
     },
     "metadata": {},
     "output_type": "display_data"
    },
    {
     "data": {
      "text/html": [
       "<p>020: Query Document:\n",
       "王世充 既 得 東都 兵 撃 李密 洛 敗 遂 屯 鞏 辛酉 世充 命 軍 各 造 浮 橋 渡 洛 撃 密 橋 先 成 先 後 虎 賁 郎 王辯 破 密 柵 密 營 中 驚 擾 潰 世充 知 鳴 角 收 衆 密 因 帥 死 士 乘 世充 大 敗 爭 橋 溺 死 餘 人 王辯 死 世充 僅 免 洛 軍 潰 世充 入 東都 趣 河陽 夜 疾 風 寒 雨 軍 士 渉 水 沾 濕 道 路 凍 死 數 世充 獨 數 人 河陽 繋 獄 請 罪 越王侗 遣 使 赦 召 東都 賜 金 帛 美 安 意 世充 收 合 亡 散 得 餘 人 屯 含嘉城 復 出<p>\n",
       "Response<p>\n",
       "2010 0.4251 庚寅 詔 官 名 復 舊<p>\n",
       "7426 0.4193 詔 册 黠戛斯可汗 爲 宗英雄 武誠明可汗<p>\n",
       "6502 0.3934 河陽 都 知 兵 馬 使 曹華 爲 棣州 刺 史 詔 河陽 兵 送 滳河 會 縣 爲 平盧 兵 陷 華 撃 卻 殺 餘 人 復 縣 聞 詔 加 横海 節 度 副 使<p>\n",
       "7403 0.3631 月 詔 澤州 隸 河陽 節 度<p>\n",
       "5489 0.3631 詔 改 梁州 爲 興元府<p>\n",
       "040: Query Document:\n",
       "王世充 既 得 東都 兵 撃 李密 洛 敗 遂 屯 鞏 辛酉 世充 命 軍 各 造 浮 橋 渡 洛 撃 密 橋 先 成 先 後 虎 賁 郎 王辯 破 密 柵 密 營 中 驚 擾 潰 世充 知 鳴 角 收 衆 密 因 帥 死 士 乘 世充 大 敗 爭 橋 溺 死 餘 人 王辯 死 世充 僅 免 洛 軍 潰 世充 入 東都 趣 河陽 夜 疾 風 寒 雨 軍 士 渉 水 沾 濕 道 路 凍 死 數 世充 獨 數 人 河陽 繋 獄 請 罪 越王侗 遣 使 赦 召 東都 賜 金 帛 美 安 意 世充 收 合 亡 散 得 餘 人 屯 含嘉城 復 出<p>\n",
       "Response<p>\n",
       "3793 0.4518 博 士 王璵 上 疏 請 立 青帝壇 迎 春 從 冬 月 辛丑 制 今 立 春 親 迎 春 東 郊<p>\n",
       "7446 0.4430 春 月 庚辰 夏州 節 度 使 米曁 爲 東 道 招 討 黨 項 使<p>\n",
       "938 0.4203 春 正 月 戊午 上 祀 太廟 癸亥 耕 藉 東 郊<p>\n",
       "1974 0.3906 月 丙戌 東 臺 侍 郎 郝處俊 同 東 西 臺 品<p>\n",
       "1945 0.3566 辛亥 東 臺 侍 郎 同 東 西 臺 品 李安期 出 爲 荊州 長 史<p>\n",
       "060: Query Document:\n",
       "王世充 既 得 東都 兵 撃 李密 洛 敗 遂 屯 鞏 辛酉 世充 命 軍 各 造 浮 橋 渡 洛 撃 密 橋 先 成 先 後 虎 賁 郎 王辯 破 密 柵 密 營 中 驚 擾 潰 世充 知 鳴 角 收 衆 密 因 帥 死 士 乘 世充 大 敗 爭 橋 溺 死 餘 人 王辯 死 世充 僅 免 洛 軍 潰 世充 入 東都 趣 河陽 夜 疾 風 寒 雨 軍 士 渉 水 沾 濕 道 路 凍 死 數 世充 獨 數 人 河陽 繋 獄 請 罪 越王侗 遣 使 赦 召 東都 賜 金 帛 美 安 意 世充 收 合 亡 散 得 餘 人 屯 含嘉城 復 出<p>\n",
       "Response<p>\n",
       "3 0.3429 王世充 既 得 東都 兵 撃 李密 洛 敗 遂 屯 鞏 辛酉 世充 命 軍 各 造 浮 橋 渡 洛 撃 密 橋 先 成 先 後 虎 賁 郎 王辯 破 密 柵 密 營 中 驚 擾 潰 世充 知 鳴 角 收 衆 密 因 帥 死 士 乘 世充 大 敗 爭 橋 溺 死 餘 人 王辯 死 世充 僅 免 洛 軍 潰 世充 入 東都 趣 河陽 夜 疾 風 寒 雨 軍 士 渉 水 沾 濕 道 路 凍 死 數 世充 獨 數 人 河陽 繋 獄 請 罪 越王侗 遣 使 赦 召 東都 賜 金 帛 美 安 意 世充 收 合 亡 散 得 餘 人 屯 含嘉城 復 出<p>\n",
       "178 0.3196 己未 世充 寇 穀州 世充 秦叔寶 爲 龍 驤 大 軍 程知節 爲 軍 待 厚 人 疾 世充 多 詐 知節 叔寶 王公 器 度 淺 狹 多 妄 語 好 爲 呪 誓 老 巫 嫗 豈 撥 亂 主 世充 唐 兵 戰 九曲 叔寶 知節 兵 陳 數 騎 西 馳 許 歩 下 馬 拜 世充 僕 荷 公 殊 禮 深 思 報 效 公 性 猜 忌 喜 信 讒 言 僕 託 身 今 能 仰 事 請 從 辭 遂 躍馬 降 世充 逼 上 使 事 秦王世民 世民 素 聞 名 厚 禮 叔寶 爲 馬 軍 總 管 知節 爲 統 軍 時 世充 驍 驃 騎 武安 李君羨 征 南 軍 臨邑 田留安 惡 世充 爲 人 帥 衆 降 世民 引 君羨 置 左右 留安 爲 統 軍<p>\n",
       "90 0.3157 世充 夜 圍 偃師 鄭頲 守 偃師 部 下 翻 城 納 世充 世充 家 江都 隨 宇文化及 滑臺 隨 王軌 入 李密 密 留 偃師 欲 招 世充 偃師 破 世充 得 兄 世偉 玄應 虔恕 瓊 等 獲 密 佐 裴仁基 鄭頲 祖君彦 等 數 人 世充 整 兵 向 洛口 得 邴元眞 妻 鄭虔象 母 密 弟 撫 慰 令 潛 呼 父 兄 虔 玄<p>\n",
       "268 0.3126 漳南 人 劉黒闥 少 驍 勇 狡 獪 竇建徳 善 後 爲 羣 盜 轉 事 郝孝徳 李密 王世充 世充 爲 騎 毎 見 世充 爲 竊 笑 世充 使 黒闥 守 新郷 李世勣 撃 虜 獻 建徳 建徳 署 爲 軍 賜 爵 漢東公 使 奇 兵 東 西 掩 襲 或 潛 入 敵 境 覘視 虚 實 黒闥 往 往 乘間 奮 撃 克 獲<p>\n",
       "417 0.3056 世充 王徳仁 棄 洛陽 城 遁 亞 趙季卿 城 降 秦王世民 囚 竇建徳 王琬 長孫安世 郭士衡 等 洛陽 城 下 示 世充 世充 建徳 語 泣 仍 遣 安世 等 入 城 言 敗 状 世充 召 議 突 圍 南 走 襄陽 恃 夏王 夏王 今 已 爲 擒 得 出 必 成 丙寅 世充 素 服 帥 羣 臣 餘 人 詣 軍 門 降 世民 禮 接 世充 俯 伏 流 汗 世民 卿 童子 見 處 今 見 童子 恭 世充 頓 謝 罪 部 分 軍 先 入 洛陽 分 守 市 肆 禁 止 侵 掠 犯<p>\n",
       "080: Query Document:\n",
       "王世充 既 得 東都 兵 撃 李密 洛 敗 遂 屯 鞏 辛酉 世充 命 軍 各 造 浮 橋 渡 洛 撃 密 橋 先 成 先 後 虎 賁 郎 王辯 破 密 柵 密 營 中 驚 擾 潰 世充 知 鳴 角 收 衆 密 因 帥 死 士 乘 世充 大 敗 爭 橋 溺 死 餘 人 王辯 死 世充 僅 免 洛 軍 潰 世充 入 東都 趣 河陽 夜 疾 風 寒 雨 軍 士 渉 水 沾 濕 道 路 凍 死 數 世充 獨 數 人 河陽 繋 獄 請 罪 越王侗 遣 使 赦 召 東都 賜 金 帛 美 安 意 世充 收 合 亡 散 得 餘 人 屯 含嘉城 復 出<p>\n",
       "Response<p>\n",
       "9233 0.3509 月 陝州 都 朱簡 殺 李璠 留 後 附 朱全忠 仍 請 名 友謙 預 姪<p>\n",
       "8397 0.3475 成徳 留 後 王鎔 魏博 留 後 樂行達 天平 留 後 朱瑄 爲 本 道 節 度 使<p>\n",
       "9110 0.3290 月 丙子 朱全忠 表 曹州 刺 史 葛從周 爲 泰寧 留 後 朱友裕 爲 天平 留 後 龐師古 爲 武寧 留 後<p>\n",
       "9624 0.3157 辛未 權 知 寧遠 留 後 龐巨昭 嶺南西道 留 後 葉廣略 竝 爲 節 度 使<p>\n",
       "9207 0.3085 朱全忠 表 李罕之 爲 昭義 節 度 使 表 權 知 河陽 留 後 丁會 武寧 留 後 王敬蕘 彰義 留 後 張珂 竝 爲 節 度 使<p>\n",
       "100: Query Document:\n",
       "王世充 既 得 東都 兵 撃 李密 洛 敗 遂 屯 鞏 辛酉 世充 命 軍 各 造 浮 橋 渡 洛 撃 密 橋 先 成 先 後 虎 賁 郎 王辯 破 密 柵 密 營 中 驚 擾 潰 世充 知 鳴 角 收 衆 密 因 帥 死 士 乘 世充 大 敗 爭 橋 溺 死 餘 人 王辯 死 世充 僅 免 洛 軍 潰 世充 入 東都 趣 河陽 夜 疾 風 寒 雨 軍 士 渉 水 沾 濕 道 路 凍 死 數 世充 獨 數 人 河陽 繋 獄 請 罪 越王侗 遣 使 赦 召 東都 賜 金 帛 美 安 意 世充 收 合 亡 散 得 餘 人 屯 含嘉城 復 出<p>\n",
       "Response<p>\n",
       "9348 0.4332 盜 發 簡陵<p>\n",
       "8133 0.4272 西川 節 度 使 崔安潛 到 官 詰 盜 蜀 人 怪 安潛 盜 容 能 爲 今 窮 覈 坐 衆 搜 捕 爲 煩 擾 甲子 出 庫 錢 緡 分 置 市 置 牓 上 能 告 捕 盜 賞 錢 緡 盜 能 獨 爲 必 侶 侶 告 捕 釋 罪 賞 同 平 人 幾 捕 盜 盜 服 汝 我 同 爲 盜 年 贓 平 分 汝 安 能 捕 我 我 汝 同 死 安潛 汝 既 知 牓 捕 彼 彼 死 汝 受 賞 汝 既 爲 先 死 復 辭 立 命 給 捕 錢 使 盜 視 後 盜 市 幷 滅 家 盜 侶 互 相 疑 地 容 夜 旦 散 逃 出 境 境 内 遂 人 盜<p>\n",
       "7664 0.3393 山南東道 節 度 使 徐商 封 疆 險 闊 素 多 盜 賊 選 精 兵 數 人 別 置 營 訓 練 號 捕 盜 湖南 逐 帥 詔 商 討 商 遣 捕 盜 人 討 平<p>\n",
       "6363 0.3063 庚戌 東都 奏 盜 焚 柏崖倉<p>\n",
       "3839 0.2863 甲辰 明 堂 成</p>"
      ],
      "text/plain": [
       "<IPython.core.display.HTML object>"
      ]
     },
     "metadata": {},
     "output_type": "display_data"
    }
   ],
   "source": [
    "res=ktm.get_simdocs(models, 3)\n",
    "display(HTML(\"<h1>5. Document by similarity</h1>\"))\n",
    "display(HTML(\"<p>%s</p>\" % (\"<p>\\n\".join(ktm.print_simdocs(res, html=True)))))"
   ]
  },
  {
   "cell_type": "code",
   "execution_count": null,
   "metadata": {},
   "outputs": [],
   "source": []
  }
 ],
 "metadata": {
  "kernelspec": {
   "display_name": "Python 2",
   "language": "python",
   "name": "python2"
  },
  "language_info": {
   "codemirror_mode": {
    "name": "ipython",
    "version": 2
   },
   "file_extension": ".py",
   "mimetype": "text/x-python",
   "name": "python",
   "nbconvert_exporter": "python",
   "pygments_lexer": "ipython2",
   "version": "2.7.11"
  },
  "name": "Untitled3.ipynb"
 },
 "nbformat": 4,
 "nbformat_minor": 2
}
